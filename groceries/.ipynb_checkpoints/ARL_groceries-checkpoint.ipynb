{
 "cells": [
  {
   "cell_type": "markdown",
   "metadata": {},
   "source": [
    "### Associating rule learning  \n",
    "Plan:\n",
    "1. Define Support, Confidence and Lift of all pairs of products\n",
    "2. Find TOP-3 products\n",
    "3. Find TOP-3 pairs of products\n",
    "4. Save df to Excel file"
   ]
  },
  {
   "cell_type": "code",
   "execution_count": 1,
   "metadata": {},
   "outputs": [],
   "source": [
    "#importing libraries\n",
    "\n",
    "import numpy as np\n",
    "import pandas as pd\n",
    "from apyori import apriori\n"
   ]
  },
  {
   "cell_type": "code",
   "execution_count": 2,
   "metadata": {},
   "outputs": [
    {
     "name": "stdout",
     "output_type": "stream",
     "text": [
      "(9835, 32)\n"
     ]
    },
    {
     "data": {
      "text/html": [
       "<div>\n",
       "<style scoped>\n",
       "    .dataframe tbody tr th:only-of-type {\n",
       "        vertical-align: middle;\n",
       "    }\n",
       "\n",
       "    .dataframe tbody tr th {\n",
       "        vertical-align: top;\n",
       "    }\n",
       "\n",
       "    .dataframe thead th {\n",
       "        text-align: right;\n",
       "    }\n",
       "</style>\n",
       "<table border=\"1\" class=\"dataframe\">\n",
       "  <thead>\n",
       "    <tr style=\"text-align: right;\">\n",
       "      <th></th>\n",
       "      <th>0</th>\n",
       "      <th>1</th>\n",
       "      <th>2</th>\n",
       "      <th>3</th>\n",
       "      <th>4</th>\n",
       "      <th>5</th>\n",
       "      <th>6</th>\n",
       "      <th>7</th>\n",
       "      <th>8</th>\n",
       "      <th>9</th>\n",
       "      <th>...</th>\n",
       "      <th>22</th>\n",
       "      <th>23</th>\n",
       "      <th>24</th>\n",
       "      <th>25</th>\n",
       "      <th>26</th>\n",
       "      <th>27</th>\n",
       "      <th>28</th>\n",
       "      <th>29</th>\n",
       "      <th>30</th>\n",
       "      <th>31</th>\n",
       "    </tr>\n",
       "  </thead>\n",
       "  <tbody>\n",
       "    <tr>\n",
       "      <th>0</th>\n",
       "      <td>citrus fruit</td>\n",
       "      <td>semi-finished bread</td>\n",
       "      <td>margarine</td>\n",
       "      <td>ready soups</td>\n",
       "      <td>NaN</td>\n",
       "      <td>NaN</td>\n",
       "      <td>NaN</td>\n",
       "      <td>NaN</td>\n",
       "      <td>NaN</td>\n",
       "      <td>NaN</td>\n",
       "      <td>...</td>\n",
       "      <td>NaN</td>\n",
       "      <td>NaN</td>\n",
       "      <td>NaN</td>\n",
       "      <td>NaN</td>\n",
       "      <td>NaN</td>\n",
       "      <td>NaN</td>\n",
       "      <td>NaN</td>\n",
       "      <td>NaN</td>\n",
       "      <td>NaN</td>\n",
       "      <td>NaN</td>\n",
       "    </tr>\n",
       "    <tr>\n",
       "      <th>1</th>\n",
       "      <td>tropical fruit</td>\n",
       "      <td>yogurt</td>\n",
       "      <td>coffee</td>\n",
       "      <td>NaN</td>\n",
       "      <td>NaN</td>\n",
       "      <td>NaN</td>\n",
       "      <td>NaN</td>\n",
       "      <td>NaN</td>\n",
       "      <td>NaN</td>\n",
       "      <td>NaN</td>\n",
       "      <td>...</td>\n",
       "      <td>NaN</td>\n",
       "      <td>NaN</td>\n",
       "      <td>NaN</td>\n",
       "      <td>NaN</td>\n",
       "      <td>NaN</td>\n",
       "      <td>NaN</td>\n",
       "      <td>NaN</td>\n",
       "      <td>NaN</td>\n",
       "      <td>NaN</td>\n",
       "      <td>NaN</td>\n",
       "    </tr>\n",
       "    <tr>\n",
       "      <th>2</th>\n",
       "      <td>whole milk</td>\n",
       "      <td>NaN</td>\n",
       "      <td>NaN</td>\n",
       "      <td>NaN</td>\n",
       "      <td>NaN</td>\n",
       "      <td>NaN</td>\n",
       "      <td>NaN</td>\n",
       "      <td>NaN</td>\n",
       "      <td>NaN</td>\n",
       "      <td>NaN</td>\n",
       "      <td>...</td>\n",
       "      <td>NaN</td>\n",
       "      <td>NaN</td>\n",
       "      <td>NaN</td>\n",
       "      <td>NaN</td>\n",
       "      <td>NaN</td>\n",
       "      <td>NaN</td>\n",
       "      <td>NaN</td>\n",
       "      <td>NaN</td>\n",
       "      <td>NaN</td>\n",
       "      <td>NaN</td>\n",
       "    </tr>\n",
       "    <tr>\n",
       "      <th>3</th>\n",
       "      <td>pip fruit</td>\n",
       "      <td>yogurt</td>\n",
       "      <td>cream cheese</td>\n",
       "      <td>meat spreads</td>\n",
       "      <td>NaN</td>\n",
       "      <td>NaN</td>\n",
       "      <td>NaN</td>\n",
       "      <td>NaN</td>\n",
       "      <td>NaN</td>\n",
       "      <td>NaN</td>\n",
       "      <td>...</td>\n",
       "      <td>NaN</td>\n",
       "      <td>NaN</td>\n",
       "      <td>NaN</td>\n",
       "      <td>NaN</td>\n",
       "      <td>NaN</td>\n",
       "      <td>NaN</td>\n",
       "      <td>NaN</td>\n",
       "      <td>NaN</td>\n",
       "      <td>NaN</td>\n",
       "      <td>NaN</td>\n",
       "    </tr>\n",
       "    <tr>\n",
       "      <th>4</th>\n",
       "      <td>other vegetables</td>\n",
       "      <td>whole milk</td>\n",
       "      <td>condensed milk</td>\n",
       "      <td>long life bakery product</td>\n",
       "      <td>NaN</td>\n",
       "      <td>NaN</td>\n",
       "      <td>NaN</td>\n",
       "      <td>NaN</td>\n",
       "      <td>NaN</td>\n",
       "      <td>NaN</td>\n",
       "      <td>...</td>\n",
       "      <td>NaN</td>\n",
       "      <td>NaN</td>\n",
       "      <td>NaN</td>\n",
       "      <td>NaN</td>\n",
       "      <td>NaN</td>\n",
       "      <td>NaN</td>\n",
       "      <td>NaN</td>\n",
       "      <td>NaN</td>\n",
       "      <td>NaN</td>\n",
       "      <td>NaN</td>\n",
       "    </tr>\n",
       "  </tbody>\n",
       "</table>\n",
       "<p>5 rows × 32 columns</p>\n",
       "</div>"
      ],
      "text/plain": [
       "                 0                    1               2   \\\n",
       "0      citrus fruit  semi-finished bread       margarine   \n",
       "1    tropical fruit               yogurt          coffee   \n",
       "2        whole milk                  NaN             NaN   \n",
       "3         pip fruit               yogurt   cream cheese    \n",
       "4  other vegetables           whole milk  condensed milk   \n",
       "\n",
       "                         3    4    5    6    7    8    9   ...   22   23   24  \\\n",
       "0               ready soups  NaN  NaN  NaN  NaN  NaN  NaN  ...  NaN  NaN  NaN   \n",
       "1                       NaN  NaN  NaN  NaN  NaN  NaN  NaN  ...  NaN  NaN  NaN   \n",
       "2                       NaN  NaN  NaN  NaN  NaN  NaN  NaN  ...  NaN  NaN  NaN   \n",
       "3              meat spreads  NaN  NaN  NaN  NaN  NaN  NaN  ...  NaN  NaN  NaN   \n",
       "4  long life bakery product  NaN  NaN  NaN  NaN  NaN  NaN  ...  NaN  NaN  NaN   \n",
       "\n",
       "    25   26   27   28   29   30   31  \n",
       "0  NaN  NaN  NaN  NaN  NaN  NaN  NaN  \n",
       "1  NaN  NaN  NaN  NaN  NaN  NaN  NaN  \n",
       "2  NaN  NaN  NaN  NaN  NaN  NaN  NaN  \n",
       "3  NaN  NaN  NaN  NaN  NaN  NaN  NaN  \n",
       "4  NaN  NaN  NaN  NaN  NaN  NaN  NaN  \n",
       "\n",
       "[5 rows x 32 columns]"
      ]
     },
     "execution_count": 2,
     "metadata": {},
     "output_type": "execute_result"
    }
   ],
   "source": [
    "# creating dataframe from our csv file\n",
    "\n",
    "gr_data = pd.read_csv('Groceries.csv', header=None)\n",
    "\n",
    "print(gr_data.shape)\n",
    "gr_data.head()"
   ]
  },
  {
   "cell_type": "code",
   "execution_count": 3,
   "metadata": {},
   "outputs": [],
   "source": [
    "# making list of lists with all transactions\n",
    "\n",
    "transactions = []\n",
    "for i in range(gr_data.shape[0]):\n",
    "    transactions.append([str(gr_data.values[i,j]) for j in range(gr_data.shape[1]) if pd.notna(gr_data.values[i,j])])"
   ]
  },
  {
   "cell_type": "code",
   "execution_count": 4,
   "metadata": {},
   "outputs": [],
   "source": [
    "# building association rules\n",
    "\n",
    "association_rules = apriori(transactions, min_support=0.0045, min_confidence=0.2, min_lift=3, max_length=2)"
   ]
  },
  {
   "cell_type": "code",
   "execution_count": 5,
   "metadata": {},
   "outputs": [
    {
     "data": {
      "text/plain": [
       "RelationRecord(items=frozenset({'baking powder', 'whipped/sour cream'}), support=0.004575495678698526, ordered_statistics=[OrderedStatistic(items_base=frozenset({'baking powder'}), items_add=frozenset({'whipped/sour cream'}), confidence=0.25862068965517243, lift=3.607850330154072)])"
      ]
     },
     "execution_count": 5,
     "metadata": {},
     "output_type": "execute_result"
    }
   ],
   "source": [
    "# list of rules\n",
    "\n",
    "association_results = list(association_rules)\n",
    "association_results[0]"
   ]
  },
  {
   "cell_type": "code",
   "execution_count": 6,
   "metadata": {},
   "outputs": [
    {
     "data": {
      "text/plain": [
       "frozenset({'baking powder', 'whipped/sour cream'})"
      ]
     },
     "execution_count": 6,
     "metadata": {},
     "output_type": "execute_result"
    }
   ],
   "source": [
    "association_results[0][0]"
   ]
  },
  {
   "cell_type": "code",
   "execution_count": 7,
   "metadata": {
    "scrolled": false
   },
   "outputs": [
    {
     "name": "stdout",
     "output_type": "stream",
     "text": [
      "Rule: baking powder -> whipped/sour cream\n",
      "Support: 0.004575495678698526\n",
      "Confidence: 0.25862068965517243\n",
      "Lift: 3.607850330154072\n",
      "=====================================\n",
      "Rule: beef -> root vegetables\n",
      "Support: 0.017386883579054397\n",
      "Confidence: 0.3313953488372093\n",
      "Lift: 3.0403668431100312\n",
      "=====================================\n",
      "Rule: berries -> whipped/sour cream\n",
      "Support: 0.009049313675648195\n",
      "Confidence: 0.27217125382262997\n",
      "Lift: 3.796885505454703\n",
      "=====================================\n",
      "Rule: liquor -> bottled beer\n",
      "Support: 0.004677173360447382\n",
      "Confidence: 0.4220183486238532\n",
      "Lift: 5.240594013529793\n",
      "=====================================\n",
      "Rule: red/blush wine -> bottled beer\n",
      "Support: 0.004880528723945094\n",
      "Confidence: 0.253968253968254\n",
      "Lift: 3.1537598204264876\n",
      "=====================================\n",
      "Rule: sugar -> flour\n",
      "Support: 0.00498220640569395\n",
      "Confidence: 0.28654970760233917\n",
      "Lift: 8.46311223504206\n",
      "=====================================\n",
      "Rule: root vegetables -> herbs\n",
      "Support: 0.007015760040671073\n",
      "Confidence: 0.43124999999999997\n",
      "Lift: 3.956477378731343\n",
      "=====================================\n",
      "Rule: sausage -> sliced cheese\n",
      "Support: 0.007015760040671073\n",
      "Confidence: 0.2863070539419087\n",
      "Lift: 3.047434930215013\n",
      "=====================================\n"
     ]
    }
   ],
   "source": [
    "# beautiful output for better analysis\n",
    "\n",
    "for item in association_results:\n",
    "    products = [x for x in item[0]]\n",
    "    print(\"Rule: \" + products[0] + \" -> \" + products[1] )\n",
    "\n",
    "    print(\"Support: \" + str(item[1]))\n",
    "\n",
    "    print(\"Confidence: \" + str(item[2][0][2]))\n",
    "    print(\"Lift: \" + str(item[2][0][3]))\n",
    "    print(\"=====================================\")"
   ]
  },
  {
   "cell_type": "code",
   "execution_count": 8,
   "metadata": {},
   "outputs": [],
   "source": [
    "# creating a new df from the list of rules\n",
    "# using dictionary\n",
    "\n",
    "dictt = {}\n",
    "i = 0\n",
    "for item in association_results:\n",
    "    dictt[i] = [item[0], item[1], item[2][0][2], item[2][0][3]]\n",
    "    i += 1\n",
    "df = pd.DataFrame(dictt, index = ['Pairs of products', 'Support', 'Confidence', 'Lift'])"
   ]
  },
  {
   "cell_type": "code",
   "execution_count": 9,
   "metadata": {},
   "outputs": [
    {
     "data": {
      "text/html": [
       "<div>\n",
       "<style scoped>\n",
       "    .dataframe tbody tr th:only-of-type {\n",
       "        vertical-align: middle;\n",
       "    }\n",
       "\n",
       "    .dataframe tbody tr th {\n",
       "        vertical-align: top;\n",
       "    }\n",
       "\n",
       "    .dataframe thead th {\n",
       "        text-align: right;\n",
       "    }\n",
       "</style>\n",
       "<table border=\"1\" class=\"dataframe\">\n",
       "  <thead>\n",
       "    <tr style=\"text-align: right;\">\n",
       "      <th></th>\n",
       "      <th>Pairs of products</th>\n",
       "      <th>Support</th>\n",
       "      <th>Confidence</th>\n",
       "      <th>Lift</th>\n",
       "    </tr>\n",
       "  </thead>\n",
       "  <tbody>\n",
       "    <tr>\n",
       "      <th>0</th>\n",
       "      <td>(baking powder, whipped/sour cream)</td>\n",
       "      <td>0.0045755</td>\n",
       "      <td>0.258621</td>\n",
       "      <td>3.60785</td>\n",
       "    </tr>\n",
       "    <tr>\n",
       "      <th>1</th>\n",
       "      <td>(beef, root vegetables)</td>\n",
       "      <td>0.0173869</td>\n",
       "      <td>0.331395</td>\n",
       "      <td>3.04037</td>\n",
       "    </tr>\n",
       "    <tr>\n",
       "      <th>2</th>\n",
       "      <td>(berries, whipped/sour cream)</td>\n",
       "      <td>0.00904931</td>\n",
       "      <td>0.272171</td>\n",
       "      <td>3.79689</td>\n",
       "    </tr>\n",
       "    <tr>\n",
       "      <th>3</th>\n",
       "      <td>(liquor, bottled beer)</td>\n",
       "      <td>0.00467717</td>\n",
       "      <td>0.422018</td>\n",
       "      <td>5.24059</td>\n",
       "    </tr>\n",
       "    <tr>\n",
       "      <th>4</th>\n",
       "      <td>(red/blush wine, bottled beer)</td>\n",
       "      <td>0.00488053</td>\n",
       "      <td>0.253968</td>\n",
       "      <td>3.15376</td>\n",
       "    </tr>\n",
       "  </tbody>\n",
       "</table>\n",
       "</div>"
      ],
      "text/plain": [
       "                     Pairs of products     Support Confidence     Lift\n",
       "0  (baking powder, whipped/sour cream)   0.0045755   0.258621  3.60785\n",
       "1              (beef, root vegetables)   0.0173869   0.331395  3.04037\n",
       "2        (berries, whipped/sour cream)  0.00904931   0.272171  3.79689\n",
       "3               (liquor, bottled beer)  0.00467717   0.422018  5.24059\n",
       "4       (red/blush wine, bottled beer)  0.00488053   0.253968  3.15376"
      ]
     },
     "execution_count": 9,
     "metadata": {},
     "output_type": "execute_result"
    }
   ],
   "source": [
    "# swaping rows and columns\n",
    "\n",
    "df = df.T\n",
    "df.head()"
   ]
  },
  {
   "cell_type": "code",
   "execution_count": 10,
   "metadata": {},
   "outputs": [],
   "source": [
    "# creating a new df\n",
    "# using list comprehensions\n",
    "\n",
    "df = pd.DataFrame({'Pairs of products' : [item[0] for item in association_results],\n",
    "                   'Support' : [item[1] for item in association_results],\n",
    "                   'Confidence' : [item[2][0][2] for item in association_results],\n",
    "                   'Lift' : [item[2][0][3] for item in association_results]})"
   ]
  },
  {
   "cell_type": "code",
   "execution_count": 11,
   "metadata": {},
   "outputs": [
    {
     "data": {
      "text/html": [
       "<div>\n",
       "<style scoped>\n",
       "    .dataframe tbody tr th:only-of-type {\n",
       "        vertical-align: middle;\n",
       "    }\n",
       "\n",
       "    .dataframe tbody tr th {\n",
       "        vertical-align: top;\n",
       "    }\n",
       "\n",
       "    .dataframe thead th {\n",
       "        text-align: right;\n",
       "    }\n",
       "</style>\n",
       "<table border=\"1\" class=\"dataframe\">\n",
       "  <thead>\n",
       "    <tr style=\"text-align: right;\">\n",
       "      <th></th>\n",
       "      <th>Pairs of products</th>\n",
       "      <th>Support</th>\n",
       "      <th>Confidence</th>\n",
       "      <th>Lift</th>\n",
       "    </tr>\n",
       "  </thead>\n",
       "  <tbody>\n",
       "    <tr>\n",
       "      <th>0</th>\n",
       "      <td>(baking powder, whipped/sour cream)</td>\n",
       "      <td>0.004575</td>\n",
       "      <td>0.258621</td>\n",
       "      <td>3.607850</td>\n",
       "    </tr>\n",
       "    <tr>\n",
       "      <th>1</th>\n",
       "      <td>(beef, root vegetables)</td>\n",
       "      <td>0.017387</td>\n",
       "      <td>0.331395</td>\n",
       "      <td>3.040367</td>\n",
       "    </tr>\n",
       "    <tr>\n",
       "      <th>2</th>\n",
       "      <td>(berries, whipped/sour cream)</td>\n",
       "      <td>0.009049</td>\n",
       "      <td>0.272171</td>\n",
       "      <td>3.796886</td>\n",
       "    </tr>\n",
       "    <tr>\n",
       "      <th>3</th>\n",
       "      <td>(liquor, bottled beer)</td>\n",
       "      <td>0.004677</td>\n",
       "      <td>0.422018</td>\n",
       "      <td>5.240594</td>\n",
       "    </tr>\n",
       "    <tr>\n",
       "      <th>4</th>\n",
       "      <td>(red/blush wine, bottled beer)</td>\n",
       "      <td>0.004881</td>\n",
       "      <td>0.253968</td>\n",
       "      <td>3.153760</td>\n",
       "    </tr>\n",
       "  </tbody>\n",
       "</table>\n",
       "</div>"
      ],
      "text/plain": [
       "                     Pairs of products   Support  Confidence      Lift\n",
       "0  (baking powder, whipped/sour cream)  0.004575    0.258621  3.607850\n",
       "1              (beef, root vegetables)  0.017387    0.331395  3.040367\n",
       "2        (berries, whipped/sour cream)  0.009049    0.272171  3.796886\n",
       "3               (liquor, bottled beer)  0.004677    0.422018  5.240594\n",
       "4       (red/blush wine, bottled beer)  0.004881    0.253968  3.153760"
      ]
     },
     "execution_count": 11,
     "metadata": {},
     "output_type": "execute_result"
    }
   ],
   "source": [
    "df.head()"
   ]
  },
  {
   "cell_type": "code",
   "execution_count": 12,
   "metadata": {},
   "outputs": [
    {
     "data": {
      "text/html": [
       "<div>\n",
       "<style scoped>\n",
       "    .dataframe tbody tr th:only-of-type {\n",
       "        vertical-align: middle;\n",
       "    }\n",
       "\n",
       "    .dataframe tbody tr th {\n",
       "        vertical-align: top;\n",
       "    }\n",
       "\n",
       "    .dataframe thead th {\n",
       "        text-align: right;\n",
       "    }\n",
       "</style>\n",
       "<table border=\"1\" class=\"dataframe\">\n",
       "  <thead>\n",
       "    <tr style=\"text-align: right;\">\n",
       "      <th></th>\n",
       "      <th>Pairs of products</th>\n",
       "      <th>Support</th>\n",
       "      <th>Confidence</th>\n",
       "      <th>Lift</th>\n",
       "    </tr>\n",
       "  </thead>\n",
       "  <tbody>\n",
       "    <tr>\n",
       "      <th>1</th>\n",
       "      <td>(beef, root vegetables)</td>\n",
       "      <td>0.017387</td>\n",
       "      <td>0.331395</td>\n",
       "      <td>3.040367</td>\n",
       "    </tr>\n",
       "    <tr>\n",
       "      <th>2</th>\n",
       "      <td>(berries, whipped/sour cream)</td>\n",
       "      <td>0.009049</td>\n",
       "      <td>0.272171</td>\n",
       "      <td>3.796886</td>\n",
       "    </tr>\n",
       "    <tr>\n",
       "      <th>6</th>\n",
       "      <td>(root vegetables, herbs)</td>\n",
       "      <td>0.007016</td>\n",
       "      <td>0.431250</td>\n",
       "      <td>3.956477</td>\n",
       "    </tr>\n",
       "  </tbody>\n",
       "</table>\n",
       "</div>"
      ],
      "text/plain": [
       "               Pairs of products   Support  Confidence      Lift\n",
       "1        (beef, root vegetables)  0.017387    0.331395  3.040367\n",
       "2  (berries, whipped/sour cream)  0.009049    0.272171  3.796886\n",
       "6       (root vegetables, herbs)  0.007016    0.431250  3.956477"
      ]
     },
     "execution_count": 12,
     "metadata": {},
     "output_type": "execute_result"
    }
   ],
   "source": [
    "# TOP-3 pairs of products means max support\n",
    "\n",
    "df.sort_values('Support', ascending=False, inplace=True)\n",
    "df.head(3)"
   ]
  },
  {
   "cell_type": "code",
   "execution_count": 13,
   "metadata": {},
   "outputs": [
    {
     "data": {
      "text/plain": [
       "whole milk          2513\n",
       "other vegetables    1903\n",
       "rolls/buns          1809\n",
       "dtype: int64"
      ]
     },
     "execution_count": 13,
     "metadata": {},
     "output_type": "execute_result"
    }
   ],
   "source": [
    "# TOP-3 products\n",
    "\n",
    "# making flattened array that contains all items\n",
    "array = gr_data.to_numpy().reshape(-1)\n",
    "\n",
    "# making pd.Series from array\n",
    "ser = pd.Series(array).dropna()\n",
    "\n",
    "# getting top-3\n",
    "ser.value_counts()[:3]"
   ]
  },
  {
   "cell_type": "code",
   "execution_count": 14,
   "metadata": {},
   "outputs": [],
   "source": [
    "# saving to file\n",
    "\n",
    "# df.iloc[0,0] --> frozenset({'beef', 'root vegetables'})\n",
    "# need to cut\n",
    "\n",
    "df['Pairs of products'] = df['Pairs of products'].astype(str).str.lstrip('frozenset({)').str.rstrip('})')\n",
    "\n",
    "df.to_excel('ass.rules.groceries.xlsx')"
   ]
  }
 ],
 "metadata": {
  "kernelspec": {
   "display_name": "Python 3",
   "language": "python",
   "name": "python3"
  },
  "language_info": {
   "codemirror_mode": {
    "name": "ipython",
    "version": 3
   },
   "file_extension": ".py",
   "mimetype": "text/x-python",
   "name": "python",
   "nbconvert_exporter": "python",
   "pygments_lexer": "ipython3",
   "version": "3.8.3"
  }
 },
 "nbformat": 4,
 "nbformat_minor": 4
}
