{
 "cells": [
  {
   "cell_type": "markdown",
   "metadata": {},
   "source": [
    "### Задача\n",
    "* проанализировать данные о продажах;\n",
    "* статистический анализ;\n",
    "* прогнозирование;\n",
    "* ассоциативные связи;\n",
    "* выводы."
   ]
  },
  {
   "cell_type": "code",
   "execution_count": 1,
   "metadata": {},
   "outputs": [],
   "source": [
    "import pandas as pd\n",
    "import numpy as np\n",
    "from datetime import datetime, date, time\n",
    "import seaborn as sns\n",
    "import matplotlib.pyplot as plt\n",
    "%matplotlib inline"
   ]
  },
  {
   "cell_type": "code",
   "execution_count": 2,
   "metadata": {},
   "outputs": [
    {
     "data": {
      "text/plain": [
       "(27994, 6)"
      ]
     },
     "execution_count": 2,
     "metadata": {},
     "output_type": "execute_result"
    }
   ],
   "source": [
    "df = pd.read_excel('practice.xlsx')\n",
    "df.shape"
   ]
  },
  {
   "cell_type": "markdown",
   "metadata": {},
   "source": [
    "### Статистический анализ\n",
    "##### a) Проанализируем данные"
   ]
  },
  {
   "cell_type": "code",
   "execution_count": 3,
   "metadata": {},
   "outputs": [
    {
     "data": {
      "text/html": [
       "<div>\n",
       "<style scoped>\n",
       "    .dataframe tbody tr th:only-of-type {\n",
       "        vertical-align: middle;\n",
       "    }\n",
       "\n",
       "    .dataframe tbody tr th {\n",
       "        vertical-align: top;\n",
       "    }\n",
       "\n",
       "    .dataframe thead th {\n",
       "        text-align: right;\n",
       "    }\n",
       "</style>\n",
       "<table border=\"1\" class=\"dataframe\">\n",
       "  <thead>\n",
       "    <tr style=\"text-align: right;\">\n",
       "      <th></th>\n",
       "      <th>Product</th>\n",
       "      <th>Client</th>\n",
       "      <th>Order</th>\n",
       "      <th>Qty</th>\n",
       "      <th>Sales</th>\n",
       "      <th>Period</th>\n",
       "    </tr>\n",
       "  </thead>\n",
       "  <tbody>\n",
       "    <tr>\n",
       "      <th>0</th>\n",
       "      <td>Product 1</td>\n",
       "      <td>Клієнт 1</td>\n",
       "      <td>78542</td>\n",
       "      <td>1</td>\n",
       "      <td>3.337209</td>\n",
       "      <td>01.07.2019 09:25:47</td>\n",
       "    </tr>\n",
       "    <tr>\n",
       "      <th>1</th>\n",
       "      <td>Product 2</td>\n",
       "      <td>Клієнт 2</td>\n",
       "      <td>78554</td>\n",
       "      <td>1</td>\n",
       "      <td>6.093023</td>\n",
       "      <td>02.07.2019 09:42:14</td>\n",
       "    </tr>\n",
       "    <tr>\n",
       "      <th>2</th>\n",
       "      <td>Product 3</td>\n",
       "      <td>Клієнт 2</td>\n",
       "      <td>78554</td>\n",
       "      <td>1</td>\n",
       "      <td>3.193023</td>\n",
       "      <td>02.07.2019 09:42:14</td>\n",
       "    </tr>\n",
       "    <tr>\n",
       "      <th>3</th>\n",
       "      <td>Product 4</td>\n",
       "      <td>Клієнт 2</td>\n",
       "      <td>78554</td>\n",
       "      <td>1</td>\n",
       "      <td>6.297674</td>\n",
       "      <td>02.07.2019 09:42:14</td>\n",
       "    </tr>\n",
       "    <tr>\n",
       "      <th>4</th>\n",
       "      <td>Product 5</td>\n",
       "      <td>Клієнт 3</td>\n",
       "      <td>78578</td>\n",
       "      <td>1</td>\n",
       "      <td>9.558140</td>\n",
       "      <td>01.07.2019 14:40:51</td>\n",
       "    </tr>\n",
       "  </tbody>\n",
       "</table>\n",
       "</div>"
      ],
      "text/plain": [
       "     Product    Client  Order  Qty     Sales               Period\n",
       "0  Product 1  Клієнт 1  78542    1  3.337209  01.07.2019 09:25:47\n",
       "1  Product 2  Клієнт 2  78554    1  6.093023  02.07.2019 09:42:14\n",
       "2  Product 3  Клієнт 2  78554    1  3.193023  02.07.2019 09:42:14\n",
       "3  Product 4  Клієнт 2  78554    1  6.297674  02.07.2019 09:42:14\n",
       "4  Product 5  Клієнт 3  78578    1  9.558140  01.07.2019 14:40:51"
      ]
     },
     "execution_count": 3,
     "metadata": {},
     "output_type": "execute_result"
    }
   ],
   "source": [
    "df.head()"
   ]
  },
  {
   "cell_type": "code",
   "execution_count": 4,
   "metadata": {},
   "outputs": [
    {
     "name": "stdout",
     "output_type": "stream",
     "text": [
      "<class 'pandas.core.frame.DataFrame'>\n",
      "RangeIndex: 27994 entries, 0 to 27993\n",
      "Data columns (total 6 columns):\n",
      " #   Column   Non-Null Count  Dtype         \n",
      "---  ------   --------------  -----         \n",
      " 0   Product  27994 non-null  object        \n",
      " 1   Client   27994 non-null  object        \n",
      " 2   Order    27994 non-null  object        \n",
      " 3   Qty      27994 non-null  int64         \n",
      " 4   Sales    27994 non-null  float64       \n",
      " 5   Period   27994 non-null  datetime64[ns]\n",
      "dtypes: datetime64[ns](1), float64(1), int64(1), object(3)\n",
      "memory usage: 1.3+ MB\n"
     ]
    }
   ],
   "source": [
    "# Преобразовываем строчный тип данных в дату.\n",
    "df['Period'] = pd.to_datetime(df['Period'])\n",
    "df.info()"
   ]
  },
  {
   "cell_type": "code",
   "execution_count": 5,
   "metadata": {},
   "outputs": [
    {
     "data": {
      "text/plain": [
       "Product    0\n",
       "Client     0\n",
       "Order      0\n",
       "Qty        0\n",
       "Sales      0\n",
       "Period     0\n",
       "dtype: int64"
      ]
     },
     "execution_count": 5,
     "metadata": {},
     "output_type": "execute_result"
    }
   ],
   "source": [
    "# Проверим наличие пустых значений.\n",
    "df.isnull().sum()"
   ]
  },
  {
   "cell_type": "code",
   "execution_count": 6,
   "metadata": {},
   "outputs": [
    {
     "name": "stdout",
     "output_type": "stream",
     "text": [
      "21\n"
     ]
    }
   ],
   "source": [
    "# Проверим нет ли нулевых заказов и удалим, если есть.\n",
    "print(df[df['Qty'] == 0].count()[0])\n",
    "df.drop(df[df['Qty'] == 0].index, inplace=True, axis=0)"
   ]
  },
  {
   "cell_type": "code",
   "execution_count": 7,
   "metadata": {},
   "outputs": [],
   "source": [
    "# Ограничим данные 2020м годом, чтобы не было будущих покупок.\n",
    "df = df[df['Period'] < '2021-01-01']"
   ]
  },
  {
   "cell_type": "code",
   "execution_count": 8,
   "metadata": {},
   "outputs": [
    {
     "data": {
      "text/plain": [
       "(Timestamp('2018-01-11 00:00:00'), Timestamp('2020-12-31 09:40:33'))"
      ]
     },
     "execution_count": 8,
     "metadata": {},
     "output_type": "execute_result"
    }
   ],
   "source": [
    "# Посмотрим, с каких дат начинается и оканчивается набор данных.\n",
    "df['Period'].min(), df['Period'].max()"
   ]
  },
  {
   "cell_type": "code",
   "execution_count": 9,
   "metadata": {},
   "outputs": [
    {
     "data": {
      "text/plain": [
       "Timedelta('1085 days 09:40:33')"
      ]
     },
     "execution_count": 9,
     "metadata": {},
     "output_type": "execute_result"
    }
   ],
   "source": [
    "# Вычислим рассматриваемый период.\n",
    "df['Period'].max() - df['Period'].min()"
   ]
  },
  {
   "cell_type": "code",
   "execution_count": 10,
   "metadata": {},
   "outputs": [
    {
     "data": {
      "text/plain": [
       "Period\n",
       "2018    17.572487\n",
       "2019    18.225611\n",
       "2020    18.897134\n",
       "Name: Sales, dtype: float64"
      ]
     },
     "execution_count": 10,
     "metadata": {},
     "output_type": "execute_result"
    }
   ],
   "source": [
    "# Средние продажи за 3 года.\n",
    "df.groupby(df['Period'].dt.year)['Sales'].mean()"
   ]
  },
  {
   "cell_type": "code",
   "execution_count": 11,
   "metadata": {},
   "outputs": [
    {
     "data": {
      "text/plain": [
       "Клієнт 9      1680\n",
       "Клієнт 218     619\n",
       "Клієнт 136     432\n",
       "Клієнт 15      385\n",
       "Клієнт 10      379\n",
       "              ... \n",
       "Клієнт 765       1\n",
       "Клієнт 762       1\n",
       "Клієнт 519       1\n",
       "Клієнт 615       1\n",
       "Клієнт 614       1\n",
       "Name: Client, Length: 877, dtype: int64"
      ]
     },
     "execution_count": 11,
     "metadata": {},
     "output_type": "execute_result"
    }
   ],
   "source": [
    "# Самые активные клиенты.\n",
    "df.Client.value_counts()"
   ]
  },
  {
   "cell_type": "code",
   "execution_count": 12,
   "metadata": {
    "scrolled": true
   },
   "outputs": [
    {
     "data": {
      "text/plain": [
       "Product 25       3165\n",
       "Product 3        1899\n",
       "Product 58       1257\n",
       "Product 23       1252\n",
       "Product 4         878\n",
       "                 ... \n",
       "Product 3927        1\n",
       "Product 21398       1\n",
       "Product 5470        1\n",
       "Product 13830       1\n",
       "Product 2968        1\n",
       "Name: Product, Length: 348, dtype: int64"
      ]
     },
     "execution_count": 12,
     "metadata": {},
     "output_type": "execute_result"
    }
   ],
   "source": [
    "# Самые популярные продукты.\n",
    "df.Product.value_counts()"
   ]
  },
  {
   "cell_type": "markdown",
   "metadata": {},
   "source": [
    " ##### b) Посмотрим загрузку на период"
   ]
  },
  {
   "cell_type": "code",
   "execution_count": 13,
   "metadata": {
    "scrolled": true
   },
   "outputs": [
    {
     "data": {
      "text/plain": [
       "Text(0.5, 1.0, 'Суммарные продажи по месяцам')"
      ]
     },
     "execution_count": 13,
     "metadata": {},
     "output_type": "execute_result"
    },
    {
     "data": {
      "image/png": "[encoded data removed]",
      "text/plain": [
       "<Figure size 864x288 with 1 Axes>"
      ]
     },
     "metadata": {
      "needs_background": "light"
     },
     "output_type": "display_data"
    }
   ],
   "source": [
    "# Визуализируем продажи по месяцам.\n",
    "fig, axs = plt.subplots(figsize=(12, 4))\n",
    "df.groupby(df[\"Period\"].dt.month)[\"Sales\"].sum().plot(kind='bar', rot=0, ax=axs, color='pink')\n",
    "\n",
    "plt.xlabel(\"Месяц\");\n",
    "plt.ylabel(\"Продажи\");\n",
    "plt.title(\"Суммарные продажи по месяцам\")"
   ]
  },
  {
   "cell_type": "markdown",
   "metadata": {},
   "source": [
    "Можем сделать вывод, что весной и осенью объемы продаж увеличиваются, что свидетельствует о наличии сезонности."
   ]
  },
  {
   "cell_type": "code",
   "execution_count": 14,
   "metadata": {},
   "outputs": [
    {
     "data": {
      "text/plain": [
       "Text(0.5, 1.0, 'Суммарные продажи по дням')"
      ]
     },
     "execution_count": 14,
     "metadata": {},
     "output_type": "execute_result"
    },
    {
     "data": {
      "image/png": "[encoded data removed]",
      "text/plain": [
       "<Figure size 864x288 with 1 Axes>"
      ]
     },
     "metadata": {
      "needs_background": "light"
     },
     "output_type": "display_data"
    }
   ],
   "source": [
    "# И по дням недели.\n",
    "fig, axs = plt.subplots(figsize=(12, 4))\n",
    "df.groupby(df[\"Period\"].dt.weekday)[\"Sales\"].sum().plot(kind='bar', rot=0, ax=axs, color='pink')\n",
    "\n",
    "plt.xlabel(\"День недели\");\n",
    "plt.ylabel(\"Продажи\");\n",
    "plt.title(\"Суммарные продажи по дням\")"
   ]
  },
  {
   "cell_type": "markdown",
   "metadata": {},
   "source": [
    "В начале недели покупают больше, к концу недели идет спад."
   ]
  },
  {
   "cell_type": "code",
   "execution_count": 15,
   "metadata": {
    "scrolled": true
   },
   "outputs": [
    {
     "data": {
      "text/plain": [
       "Text(0.5, 1.0, 'Средние продажи по часам суток')"
      ]
     },
     "execution_count": 15,
     "metadata": {},
     "output_type": "execute_result"
    },
    {
     "data": {
      "image/png": "[encoded data removed]",
      "text/plain": [
       "<Figure size 864x288 with 1 Axes>"
      ]
     },
     "metadata": {
      "needs_background": "light"
     },
     "output_type": "display_data"
    }
   ],
   "source": [
    "# Сколько в среднем покупают в разное время суток.\n",
    "fig, axs = plt.subplots(figsize=(12, 4))\n",
    "df.groupby(df[\"Period\"].dt.hour)[\"Sales\"].mean().plot(kind='bar', rot=0, ax=axs, color='pink')\n",
    "\n",
    "plt.xlabel(\"Время суток\");\n",
    "plt.ylabel(\"Продажи\");\n",
    "plt.title(\"Средние продажи по часам суток\")"
   ]
  },
  {
   "cell_type": "code",
   "execution_count": 16,
   "metadata": {
    "scrolled": true
   },
   "outputs": [
    {
     "data": {
      "text/html": [
       "<div>\n",
       "<style scoped>\n",
       "    .dataframe tbody tr th:only-of-type {\n",
       "        vertical-align: middle;\n",
       "    }\n",
       "\n",
       "    .dataframe tbody tr th {\n",
       "        vertical-align: top;\n",
       "    }\n",
       "\n",
       "    .dataframe thead th {\n",
       "        text-align: right;\n",
       "    }\n",
       "</style>\n",
       "<table border=\"1\" class=\"dataframe\">\n",
       "  <thead>\n",
       "    <tr style=\"text-align: right;\">\n",
       "      <th></th>\n",
       "      <th>Product</th>\n",
       "      <th>Client</th>\n",
       "      <th>Order</th>\n",
       "      <th>Qty</th>\n",
       "      <th>Sales</th>\n",
       "      <th>Period</th>\n",
       "    </tr>\n",
       "  </thead>\n",
       "  <tbody>\n",
       "    <tr>\n",
       "      <th>27986</th>\n",
       "      <td>Product 17</td>\n",
       "      <td>Клієнт 274</td>\n",
       "      <td>86015</td>\n",
       "      <td>6</td>\n",
       "      <td>76.627907</td>\n",
       "      <td>2019-03-08 06:52:25</td>\n",
       "    </tr>\n",
       "  </tbody>\n",
       "</table>\n",
       "</div>"
      ],
      "text/plain": [
       "          Product      Client  Order  Qty      Sales              Period\n",
       "27986  Product 17  Клієнт 274  86015    6  76.627907 2019-03-08 06:52:25"
      ]
     },
     "execution_count": 16,
     "metadata": {},
     "output_type": "execute_result"
    }
   ],
   "source": [
    "df[df[\"Period\"].dt.hour == 6]"
   ]
  },
  {
   "cell_type": "markdown",
   "metadata": {},
   "source": [
    "В 6 утра совершена одна единственная покупка на сумму 76.627907, поэтому этот показатель выбивается из общей картины. Скорее всего те же причины неравномерности графика после 22:00."
   ]
  },
  {
   "cell_type": "code",
   "execution_count": 17,
   "metadata": {
    "scrolled": true
   },
   "outputs": [
    {
     "data": {
      "text/plain": [
       "Text(0.5, 1.0, 'Суммарные продажи по часам суток')"
      ]
     },
     "execution_count": 17,
     "metadata": {},
     "output_type": "execute_result"
    },
    {
     "data": {
      "image/png": "[encoded data removed]",
      "text/plain": [
       "<Figure size 864x288 with 1 Axes>"
      ]
     },
     "metadata": {
      "needs_background": "light"
     },
     "output_type": "display_data"
    }
   ],
   "source": [
    "# И посмотрим на суммы продаж в разное время суток.\n",
    "fig, axs = plt.subplots(figsize=(12, 4))\n",
    "df.groupby(df[\"Period\"].dt.hour)[\"Sales\"].sum().plot(kind='bar', rot=0, ax=axs, color='pink')\n",
    "\n",
    "plt.xlabel(\"Время суток\");\n",
    "plt.ylabel(\"Продажи\");\n",
    "plt.title(\"Суммарные продажи по часам суток\")"
   ]
  },
  {
   "cell_type": "markdown",
   "metadata": {},
   "source": [
    "Можем наблюдать 8-часовой рабочий день с 9 до 18 и обеденным перерывом в 13:00."
   ]
  },
  {
   "cell_type": "code",
   "execution_count": 18,
   "metadata": {
    "scrolled": false
   },
   "outputs": [
    {
     "data": {
      "text/plain": [
       "count    26529.000000\n",
       "mean        18.541911\n",
       "std         25.160136\n",
       "min          0.000000\n",
       "25%          6.160465\n",
       "50%         11.690698\n",
       "75%         21.383721\n",
       "max        925.302326\n",
       "Name: Sales, dtype: float64"
      ]
     },
     "execution_count": 18,
     "metadata": {},
     "output_type": "execute_result"
    }
   ],
   "source": [
    "df['Sales'].describe()"
   ]
  },
  {
   "cell_type": "markdown",
   "metadata": {},
   "source": [
    "##### c) ABC-анализ по данным за последний год"
   ]
  },
  {
   "cell_type": "code",
   "execution_count": 19,
   "metadata": {},
   "outputs": [
    {
     "data": {
      "text/plain": [
       "(Timestamp('2019-12-31 09:59:59'), Timestamp('2020-12-31 09:40:33'))"
      ]
     },
     "execution_count": 19,
     "metadata": {},
     "output_type": "execute_result"
    }
   ],
   "source": [
    "# Выбираем последний год.\n",
    "df1 = df[df['Period'] > '2019-12-29']\n",
    "df1['Period'].min(), df1['Period'].max()"
   ]
  },
  {
   "cell_type": "code",
   "execution_count": 20,
   "metadata": {},
   "outputs": [
    {
     "name": "stdout",
     "output_type": "stream",
     "text": [
      "<class 'pandas.core.frame.DataFrame'>\n",
      "Int64Index: 13514 entries, 12266 to 26394\n",
      "Data columns (total 6 columns):\n",
      " #   Column   Non-Null Count  Dtype         \n",
      "---  ------   --------------  -----         \n",
      " 0   Product  13514 non-null  object        \n",
      " 1   Client   13514 non-null  object        \n",
      " 2   Order    13514 non-null  object        \n",
      " 3   Qty      13514 non-null  int64         \n",
      " 4   Sales    13514 non-null  float64       \n",
      " 5   Period   13514 non-null  datetime64[ns]\n",
      "dtypes: datetime64[ns](1), float64(1), int64(1), object(3)\n",
      "memory usage: 739.0+ KB\n"
     ]
    }
   ],
   "source": [
    "df1.info()"
   ]
  },
  {
   "cell_type": "code",
   "execution_count": 21,
   "metadata": {},
   "outputs": [
    {
     "data": {
      "text/html": [
       "<div>\n",
       "<style scoped>\n",
       "    .dataframe tbody tr th:only-of-type {\n",
       "        vertical-align: middle;\n",
       "    }\n",
       "\n",
       "    .dataframe tbody tr th {\n",
       "        vertical-align: top;\n",
       "    }\n",
       "\n",
       "    .dataframe thead th {\n",
       "        text-align: right;\n",
       "    }\n",
       "</style>\n",
       "<table border=\"1\" class=\"dataframe\">\n",
       "  <thead>\n",
       "    <tr style=\"text-align: right;\">\n",
       "      <th></th>\n",
       "      <th>Client</th>\n",
       "      <th>Sales</th>\n",
       "    </tr>\n",
       "  </thead>\n",
       "  <tbody>\n",
       "    <tr>\n",
       "      <th>12266</th>\n",
       "      <td>Клієнт 22</td>\n",
       "      <td>26.467442</td>\n",
       "    </tr>\n",
       "    <tr>\n",
       "      <th>12267</th>\n",
       "      <td>Клієнт 22</td>\n",
       "      <td>24.246512</td>\n",
       "    </tr>\n",
       "  </tbody>\n",
       "</table>\n",
       "</div>"
      ],
      "text/plain": [
       "          Client      Sales\n",
       "12266  Клієнт 22  26.467442\n",
       "12267  Клієнт 22  24.246512"
      ]
     },
     "execution_count": 21,
     "metadata": {},
     "output_type": "execute_result"
    }
   ],
   "source": [
    "# Выбираем нужные столбцы для анализа.\n",
    "df1 = df1[['Client', 'Sales']]\n",
    "df1.head(2)"
   ]
  },
  {
   "cell_type": "code",
   "execution_count": 22,
   "metadata": {},
   "outputs": [
    {
     "data": {
      "text/html": [
       "<div>\n",
       "<style scoped>\n",
       "    .dataframe tbody tr th:only-of-type {\n",
       "        vertical-align: middle;\n",
       "    }\n",
       "\n",
       "    .dataframe tbody tr th {\n",
       "        vertical-align: top;\n",
       "    }\n",
       "\n",
       "    .dataframe thead th {\n",
       "        text-align: right;\n",
       "    }\n",
       "</style>\n",
       "<table border=\"1\" class=\"dataframe\">\n",
       "  <thead>\n",
       "    <tr style=\"text-align: right;\">\n",
       "      <th></th>\n",
       "      <th>Client</th>\n",
       "      <th>Sales</th>\n",
       "    </tr>\n",
       "  </thead>\n",
       "  <tbody>\n",
       "    <tr>\n",
       "      <th>0</th>\n",
       "      <td>Клієнт 1</td>\n",
       "      <td>253.497674</td>\n",
       "    </tr>\n",
       "    <tr>\n",
       "      <th>1</th>\n",
       "      <td>Клієнт 10</td>\n",
       "      <td>3038.202326</td>\n",
       "    </tr>\n",
       "  </tbody>\n",
       "</table>\n",
       "</div>"
      ],
      "text/plain": [
       "      Client        Sales\n",
       "0   Клієнт 1   253.497674\n",
       "1  Клієнт 10  3038.202326"
      ]
     },
     "execution_count": 22,
     "metadata": {},
     "output_type": "execute_result"
    }
   ],
   "source": [
    "# Суммируем продажи по клиентам.\n",
    "df1 = df1.groupby('Client')['Sales'].sum().reset_index()\n",
    "df1.head(2)"
   ]
  },
  {
   "cell_type": "code",
   "execution_count": 23,
   "metadata": {},
   "outputs": [
    {
     "data": {
      "text/html": [
       "<div>\n",
       "<style scoped>\n",
       "    .dataframe tbody tr th:only-of-type {\n",
       "        vertical-align: middle;\n",
       "    }\n",
       "\n",
       "    .dataframe tbody tr th {\n",
       "        vertical-align: top;\n",
       "    }\n",
       "\n",
       "    .dataframe thead th {\n",
       "        text-align: right;\n",
       "    }\n",
       "</style>\n",
       "<table border=\"1\" class=\"dataframe\">\n",
       "  <thead>\n",
       "    <tr style=\"text-align: right;\">\n",
       "      <th></th>\n",
       "      <th>Client</th>\n",
       "      <th>Sales</th>\n",
       "    </tr>\n",
       "  </thead>\n",
       "  <tbody>\n",
       "    <tr>\n",
       "      <th>695</th>\n",
       "      <td>Клієнт 9</td>\n",
       "      <td>15966.820930</td>\n",
       "    </tr>\n",
       "    <tr>\n",
       "      <th>95</th>\n",
       "      <td>Клієнт 20</td>\n",
       "      <td>10470.960465</td>\n",
       "    </tr>\n",
       "  </tbody>\n",
       "</table>\n",
       "</div>"
      ],
      "text/plain": [
       "        Client         Sales\n",
       "695   Клієнт 9  15966.820930\n",
       "95   Клієнт 20  10470.960465"
      ]
     },
     "execution_count": 23,
     "metadata": {},
     "output_type": "execute_result"
    }
   ],
   "source": [
    "# Сортируем\n",
    "df1.sort_values('Sales', inplace=True, ascending = False)\n",
    "df1.head(2)"
   ]
  },
  {
   "cell_type": "code",
   "execution_count": 24,
   "metadata": {},
   "outputs": [
    {
     "data": {
      "text/plain": [
       "255367.83953488368"
      ]
     },
     "execution_count": 24,
     "metadata": {},
     "output_type": "execute_result"
    }
   ],
   "source": [
    "# Считаем общую сумму продаж.\n",
    "general_sales = df1['Sales'].sum()\n",
    "general_sales"
   ]
  },
  {
   "cell_type": "code",
   "execution_count": 25,
   "metadata": {},
   "outputs": [
    {
     "data": {
      "text/html": [
       "<div>\n",
       "<style scoped>\n",
       "    .dataframe tbody tr th:only-of-type {\n",
       "        vertical-align: middle;\n",
       "    }\n",
       "\n",
       "    .dataframe tbody tr th {\n",
       "        vertical-align: top;\n",
       "    }\n",
       "\n",
       "    .dataframe thead th {\n",
       "        text-align: right;\n",
       "    }\n",
       "</style>\n",
       "<table border=\"1\" class=\"dataframe\">\n",
       "  <thead>\n",
       "    <tr style=\"text-align: right;\">\n",
       "      <th></th>\n",
       "      <th>Client</th>\n",
       "      <th>Sales</th>\n",
       "      <th>Accumulated</th>\n",
       "    </tr>\n",
       "  </thead>\n",
       "  <tbody>\n",
       "    <tr>\n",
       "      <th>695</th>\n",
       "      <td>Клієнт 9</td>\n",
       "      <td>15966.820930</td>\n",
       "      <td>15966.820930</td>\n",
       "    </tr>\n",
       "    <tr>\n",
       "      <th>95</th>\n",
       "      <td>Клієнт 20</td>\n",
       "      <td>10470.960465</td>\n",
       "      <td>26437.781395</td>\n",
       "    </tr>\n",
       "  </tbody>\n",
       "</table>\n",
       "</div>"
      ],
      "text/plain": [
       "        Client         Sales   Accumulated\n",
       "695   Клієнт 9  15966.820930  15966.820930\n",
       "95   Клієнт 20  10470.960465  26437.781395"
      ]
     },
     "execution_count": 25,
     "metadata": {},
     "output_type": "execute_result"
    }
   ],
   "source": [
    "# Считаем накопительные суммы.\n",
    "df1['Accumulated'] = df1['Sales'].cumsum()\n",
    "df1.head(2)"
   ]
  },
  {
   "cell_type": "code",
   "execution_count": 26,
   "metadata": {},
   "outputs": [
    {
     "data": {
      "text/html": [
       "<div>\n",
       "<style scoped>\n",
       "    .dataframe tbody tr th:only-of-type {\n",
       "        vertical-align: middle;\n",
       "    }\n",
       "\n",
       "    .dataframe tbody tr th {\n",
       "        vertical-align: top;\n",
       "    }\n",
       "\n",
       "    .dataframe thead th {\n",
       "        text-align: right;\n",
       "    }\n",
       "</style>\n",
       "<table border=\"1\" class=\"dataframe\">\n",
       "  <thead>\n",
       "    <tr style=\"text-align: right;\">\n",
       "      <th></th>\n",
       "      <th>Client</th>\n",
       "      <th>Sales</th>\n",
       "      <th>Accumulated</th>\n",
       "      <th>Percent</th>\n",
       "    </tr>\n",
       "  </thead>\n",
       "  <tbody>\n",
       "    <tr>\n",
       "      <th>695</th>\n",
       "      <td>Клієнт 9</td>\n",
       "      <td>15966.820930</td>\n",
       "      <td>15966.820930</td>\n",
       "      <td>6.252479</td>\n",
       "    </tr>\n",
       "    <tr>\n",
       "      <th>95</th>\n",
       "      <td>Клієнт 20</td>\n",
       "      <td>10470.960465</td>\n",
       "      <td>26437.781395</td>\n",
       "      <td>10.352823</td>\n",
       "    </tr>\n",
       "    <tr>\n",
       "      <th>112</th>\n",
       "      <td>Клієнт 218</td>\n",
       "      <td>7236.995349</td>\n",
       "      <td>33674.776744</td>\n",
       "      <td>13.186773</td>\n",
       "    </tr>\n",
       "  </tbody>\n",
       "</table>\n",
       "</div>"
      ],
      "text/plain": [
       "         Client         Sales   Accumulated    Percent\n",
       "695    Клієнт 9  15966.820930  15966.820930   6.252479\n",
       "95    Клієнт 20  10470.960465  26437.781395  10.352823\n",
       "112  Клієнт 218   7236.995349  33674.776744  13.186773"
      ]
     },
     "execution_count": 26,
     "metadata": {},
     "output_type": "execute_result"
    }
   ],
   "source": [
    "# Находим соотношение накопительных сумм к общей.\n",
    "df1['Percent'] = df1['Accumulated']/general_sales*100\n",
    "df1.head(3)"
   ]
  },
  {
   "cell_type": "code",
   "execution_count": 27,
   "metadata": {},
   "outputs": [
    {
     "data": {
      "text/html": [
       "<div>\n",
       "<style scoped>\n",
       "    .dataframe tbody tr th:only-of-type {\n",
       "        vertical-align: middle;\n",
       "    }\n",
       "\n",
       "    .dataframe tbody tr th {\n",
       "        vertical-align: top;\n",
       "    }\n",
       "\n",
       "    .dataframe thead th {\n",
       "        text-align: right;\n",
       "    }\n",
       "</style>\n",
       "<table border=\"1\" class=\"dataframe\">\n",
       "  <thead>\n",
       "    <tr style=\"text-align: right;\">\n",
       "      <th></th>\n",
       "      <th>Client</th>\n",
       "      <th>Sales</th>\n",
       "      <th>Accumulated</th>\n",
       "      <th>Percent</th>\n",
       "      <th>ABC_category</th>\n",
       "    </tr>\n",
       "  </thead>\n",
       "  <tbody>\n",
       "    <tr>\n",
       "      <th>695</th>\n",
       "      <td>Клієнт 9</td>\n",
       "      <td>15966.820930</td>\n",
       "      <td>15966.820930</td>\n",
       "      <td>6.252479</td>\n",
       "      <td>A</td>\n",
       "    </tr>\n",
       "    <tr>\n",
       "      <th>95</th>\n",
       "      <td>Клієнт 20</td>\n",
       "      <td>10470.960465</td>\n",
       "      <td>26437.781395</td>\n",
       "      <td>10.352823</td>\n",
       "      <td>A</td>\n",
       "    </tr>\n",
       "    <tr>\n",
       "      <th>112</th>\n",
       "      <td>Клієнт 218</td>\n",
       "      <td>7236.995349</td>\n",
       "      <td>33674.776744</td>\n",
       "      <td>13.186773</td>\n",
       "      <td>A</td>\n",
       "    </tr>\n",
       "    <tr>\n",
       "      <th>114</th>\n",
       "      <td>Клієнт 22</td>\n",
       "      <td>6557.979070</td>\n",
       "      <td>40232.755814</td>\n",
       "      <td>15.754825</td>\n",
       "      <td>A</td>\n",
       "    </tr>\n",
       "    <tr>\n",
       "      <th>67</th>\n",
       "      <td>Клієнт 172</td>\n",
       "      <td>4023.130233</td>\n",
       "      <td>44255.886047</td>\n",
       "      <td>17.330250</td>\n",
       "      <td>A</td>\n",
       "    </tr>\n",
       "  </tbody>\n",
       "</table>\n",
       "</div>"
      ],
      "text/plain": [
       "         Client         Sales   Accumulated    Percent ABC_category\n",
       "695    Клієнт 9  15966.820930  15966.820930   6.252479            A\n",
       "95    Клієнт 20  10470.960465  26437.781395  10.352823            A\n",
       "112  Клієнт 218   7236.995349  33674.776744  13.186773            A\n",
       "114   Клієнт 22   6557.979070  40232.755814  15.754825            A\n",
       "67   Клієнт 172   4023.130233  44255.886047  17.330250            A"
      ]
     },
     "execution_count": 27,
     "metadata": {},
     "output_type": "execute_result"
    }
   ],
   "source": [
    "# Группируем клиентов.\n",
    "def group(perc):\n",
    "    if perc <= 20:\n",
    "        return 'A'\n",
    "    elif perc > 20 and perc <= 90:\n",
    "        return 'B'\n",
    "    else:\n",
    "        return 'C'\n",
    "\n",
    "df1['ABC_category'] = df1['Percent'].map(group)\n",
    "df1.head()"
   ]
  },
  {
   "cell_type": "code",
   "execution_count": 28,
   "metadata": {},
   "outputs": [
    {
     "data": {
      "text/plain": [
       "C    426\n",
       "B    272\n",
       "A      6\n",
       "Name: ABC_category, dtype: int64"
      ]
     },
     "execution_count": 28,
     "metadata": {},
     "output_type": "execute_result"
    }
   ],
   "source": [
    "# Посчитаем количество клиентов в разных категориях.\n",
    "df1['ABC_category'].value_counts()"
   ]
  },
  {
   "cell_type": "code",
   "execution_count": 29,
   "metadata": {
    "scrolled": true
   },
   "outputs": [
    {
     "data": {
      "text/plain": [
       "Text(0.5, 1.0, 'Количество клиентов по категориям')"
      ]
     },
     "execution_count": 29,
     "metadata": {},
     "output_type": "execute_result"
    },
    {
     "data": {
      "image/png": "[encoded data removed]",
      "text/plain": [
       "<Figure size 360x360 with 1 Axes>"
      ]
     },
     "metadata": {
      "needs_background": "light"
     },
     "output_type": "display_data"
    }
   ],
   "source": [
    "# Визуализируем количество клиентов по категориям.\n",
    "df1_ = df1.groupby('ABC_category')['Client'].count().reset_index()\n",
    "plt.rcParams['figure.figsize']=(5, 5)\n",
    "sns.barplot(x = 'ABC_category', y = 'Client', data = df1_, palette='pastel')\n",
    "plt.xlabel(\"ABC категория\");\n",
    "plt.ylabel(\"Клиенты\");\n",
    "plt.title(\"Количество клиентов по категориям\")"
   ]
  },
  {
   "cell_type": "code",
   "execution_count": 30,
   "metadata": {},
   "outputs": [
    {
     "data": {
      "text/plain": [
       "Text(0.5, 1.0, 'Сумма продаж в каждой категории')"
      ]
     },
     "execution_count": 30,
     "metadata": {},
     "output_type": "execute_result"
    },
    {
     "data": {
      "image/png": "[encoded data removed]",
      "text/plain": [
       "<Figure size 360x360 with 1 Axes>"
      ]
     },
     "metadata": {
      "needs_background": "light"
     },
     "output_type": "display_data"
    }
   ],
   "source": [
    "# Для наглядности визуализируем продажи в каждой группе.\n",
    "df1__ = df1.groupby('ABC_category')['Sales'].sum().reset_index()\n",
    "sns.barplot(x = 'ABC_category', y = 'Sales', data = df1__, palette='pastel')\n",
    "plt.xlabel(\"ABC категория\");\n",
    "plt.ylabel(\"Продажи\");\n",
    "plt.title(\"Сумма продаж в каждой категории\")"
   ]
  },
  {
   "cell_type": "code",
   "execution_count": 31,
   "metadata": {},
   "outputs": [
    {
     "data": {
      "text/html": [
       "<div>\n",
       "<style scoped>\n",
       "    .dataframe tbody tr th:only-of-type {\n",
       "        vertical-align: middle;\n",
       "    }\n",
       "\n",
       "    .dataframe tbody tr th {\n",
       "        vertical-align: top;\n",
       "    }\n",
       "\n",
       "    .dataframe thead th {\n",
       "        text-align: right;\n",
       "    }\n",
       "</style>\n",
       "<table border=\"1\" class=\"dataframe\">\n",
       "  <thead>\n",
       "    <tr style=\"text-align: right;\">\n",
       "      <th></th>\n",
       "      <th>Product</th>\n",
       "      <th>Client</th>\n",
       "      <th>Order</th>\n",
       "      <th>Qty</th>\n",
       "      <th>Sales</th>\n",
       "      <th>Period</th>\n",
       "      <th>ABC_category</th>\n",
       "    </tr>\n",
       "  </thead>\n",
       "  <tbody>\n",
       "    <tr>\n",
       "      <th>0</th>\n",
       "      <td>Product 1097</td>\n",
       "      <td>Клієнт 22</td>\n",
       "      <td>3847</td>\n",
       "      <td>1</td>\n",
       "      <td>26.467442</td>\n",
       "      <td>2020-01-21 13:01:25</td>\n",
       "      <td>A</td>\n",
       "    </tr>\n",
       "    <tr>\n",
       "      <th>1</th>\n",
       "      <td>Product 1098</td>\n",
       "      <td>Клієнт 22</td>\n",
       "      <td>3847</td>\n",
       "      <td>1</td>\n",
       "      <td>24.246512</td>\n",
       "      <td>2020-01-21 13:01:25</td>\n",
       "      <td>A</td>\n",
       "    </tr>\n",
       "    <tr>\n",
       "      <th>2</th>\n",
       "      <td>Product 673</td>\n",
       "      <td>Клієнт 22</td>\n",
       "      <td>3847</td>\n",
       "      <td>1</td>\n",
       "      <td>71.095349</td>\n",
       "      <td>2020-01-21 13:01:25</td>\n",
       "      <td>A</td>\n",
       "    </tr>\n",
       "    <tr>\n",
       "      <th>3</th>\n",
       "      <td>Product 699</td>\n",
       "      <td>Клієнт 22</td>\n",
       "      <td>3847</td>\n",
       "      <td>1</td>\n",
       "      <td>53.583721</td>\n",
       "      <td>2020-01-21 13:01:25</td>\n",
       "      <td>A</td>\n",
       "    </tr>\n",
       "    <tr>\n",
       "      <th>4</th>\n",
       "      <td>Product 188</td>\n",
       "      <td>Клієнт 22</td>\n",
       "      <td>8719</td>\n",
       "      <td>3</td>\n",
       "      <td>27.437209</td>\n",
       "      <td>2020-01-21 12:52:24</td>\n",
       "      <td>A</td>\n",
       "    </tr>\n",
       "  </tbody>\n",
       "</table>\n",
       "</div>"
      ],
      "text/plain": [
       "        Product     Client Order  Qty      Sales              Period  \\\n",
       "0  Product 1097  Клієнт 22  3847    1  26.467442 2020-01-21 13:01:25   \n",
       "1  Product 1098  Клієнт 22  3847    1  24.246512 2020-01-21 13:01:25   \n",
       "2   Product 673  Клієнт 22  3847    1  71.095349 2020-01-21 13:01:25   \n",
       "3   Product 699  Клієнт 22  3847    1  53.583721 2020-01-21 13:01:25   \n",
       "4   Product 188  Клієнт 22  8719    3  27.437209 2020-01-21 12:52:24   \n",
       "\n",
       "  ABC_category  \n",
       "0            A  \n",
       "1            A  \n",
       "2            A  \n",
       "3            A  \n",
       "4            A  "
      ]
     },
     "execution_count": 31,
     "metadata": {},
     "output_type": "execute_result"
    }
   ],
   "source": [
    "# Добавим столбец с категорией к основному датафрейму за последний год.\n",
    "df2 = df[df['Period'] > '2019-12-29'].merge(df1[['Client', 'ABC_category']], how='inner', on='Client')\n",
    "df2.head()"
   ]
  },
  {
   "cell_type": "code",
   "execution_count": 32,
   "metadata": {},
   "outputs": [
    {
     "data": {
      "text/html": [
       "<div>\n",
       "<style scoped>\n",
       "    .dataframe tbody tr th:only-of-type {\n",
       "        vertical-align: middle;\n",
       "    }\n",
       "\n",
       "    .dataframe tbody tr th {\n",
       "        vertical-align: top;\n",
       "    }\n",
       "\n",
       "    .dataframe thead th {\n",
       "        text-align: right;\n",
       "    }\n",
       "</style>\n",
       "<table border=\"1\" class=\"dataframe\">\n",
       "  <thead>\n",
       "    <tr style=\"text-align: right;\">\n",
       "      <th></th>\n",
       "      <th>Period</th>\n",
       "      <th>Client</th>\n",
       "      <th>ABC_category</th>\n",
       "      <th>Sales</th>\n",
       "    </tr>\n",
       "  </thead>\n",
       "  <tbody>\n",
       "    <tr>\n",
       "      <th>0</th>\n",
       "      <td>2019-12-31 09:59:59</td>\n",
       "      <td>Клієнт 36</td>\n",
       "      <td>B</td>\n",
       "      <td>10.862791</td>\n",
       "    </tr>\n",
       "    <tr>\n",
       "      <th>1</th>\n",
       "      <td>2020-01-04 08:50:35</td>\n",
       "      <td>Клієнт 95</td>\n",
       "      <td>B</td>\n",
       "      <td>28.839535</td>\n",
       "    </tr>\n",
       "    <tr>\n",
       "      <th>2</th>\n",
       "      <td>2020-01-04 09:24:53</td>\n",
       "      <td>Клієнт 22</td>\n",
       "      <td>A</td>\n",
       "      <td>405.967442</td>\n",
       "    </tr>\n",
       "  </tbody>\n",
       "</table>\n",
       "</div>"
      ],
      "text/plain": [
       "               Period     Client ABC_category       Sales\n",
       "0 2019-12-31 09:59:59  Клієнт 36            B   10.862791\n",
       "1 2020-01-04 08:50:35  Клієнт 95            B   28.839535\n",
       "2 2020-01-04 09:24:53  Клієнт 22            A  405.967442"
      ]
     },
     "execution_count": 32,
     "metadata": {},
     "output_type": "execute_result"
    }
   ],
   "source": [
    "# Сгруппируем покупки клиентов в один момент времени (получим суммы чеков).\n",
    "df3 = df2.groupby(['Period', 'Client', 'ABC_category'])['Sales'].sum().reset_index()\n",
    "df3.head(3)"
   ]
  },
  {
   "cell_type": "code",
   "execution_count": 33,
   "metadata": {},
   "outputs": [
    {
     "data": {
      "text/plain": [
       "ABC_category\n",
       "A    96.978429\n",
       "B    53.491425\n",
       "C    27.198055\n",
       "Name: Sales, dtype: float64"
      ]
     },
     "execution_count": 33,
     "metadata": {},
     "output_type": "execute_result"
    }
   ],
   "source": [
    "# Посчитаем средний чек по категориям.\n",
    "df3.groupby('ABC_category')['Sales'].mean()"
   ]
  },
  {
   "cell_type": "code",
   "execution_count": 34,
   "metadata": {
    "scrolled": true
   },
   "outputs": [
    {
     "data": {
      "text/plain": [
       "Text(0.5, 1.0, 'Средний чек по категориям')"
      ]
     },
     "execution_count": 34,
     "metadata": {},
     "output_type": "execute_result"
    },
    {
     "data": {
      "image/png": "[encoded data removed]",
      "text/plain": [
       "<Figure size 360x360 with 1 Axes>"
      ]
     },
     "metadata": {
      "needs_background": "light"
     },
     "output_type": "display_data"
    }
   ],
   "source": [
    "# Визуализируем средний чек по категориям.\n",
    "df3.sort_values('ABC_category', inplace=True)\n",
    "sns.barplot(x = 'ABC_category', y = 'Sales', data = df3, palette='pastel')\n",
    "plt.xlabel(\"ABC категория\");\n",
    "plt.ylabel(\"Продажи\");\n",
    "plt.title(\"Средний чек по категориям\")"
   ]
  },
  {
   "cell_type": "markdown",
   "metadata": {},
   "source": [
    "###### Вывод:\n",
    "6 клиентов являются самыми важными, т.к. делают 10% всех продаж со средним чеком 96.98. Для них нужно организвывать специальные предложения, приглашать на мероприятия, дарить подарки.  \n",
    "Средний чек категории \"В\" (272 человека) равен 53.50. Это так же важные клиенты, которые делают основную часть продаж. Для них можно устраивать ивенты, спец. предложения и пытаться перетащить их в категорию \"А\".  \n",
    "426 клиентов попали в категорию \"С\" (средний чек = 27,20). Нельзя утверждать, что эти клиенты нам не нужны. Возможно есть разница в продуктах(а не только в количестве), которые покупались группой \"А\" и \"С\". Нужно подробнее изучить сами продукты и их цены. Возможно нужно сделать кластеризацию и потом повторить ABC-анализ для клиентов разных кластеров."
   ]
  },
  {
   "cell_type": "markdown",
   "metadata": {},
   "source": [
    "##### d) XYZ-анализ (за последний год)  "
   ]
  },
  {
   "cell_type": "code",
   "execution_count": 35,
   "metadata": {},
   "outputs": [
    {
     "data": {
      "text/html": [
       "<div>\n",
       "<style scoped>\n",
       "    .dataframe tbody tr th:only-of-type {\n",
       "        vertical-align: middle;\n",
       "    }\n",
       "\n",
       "    .dataframe tbody tr th {\n",
       "        vertical-align: top;\n",
       "    }\n",
       "\n",
       "    .dataframe thead th {\n",
       "        text-align: right;\n",
       "    }\n",
       "</style>\n",
       "<table border=\"1\" class=\"dataframe\">\n",
       "  <thead>\n",
       "    <tr style=\"text-align: right;\">\n",
       "      <th></th>\n",
       "      <th>Product</th>\n",
       "      <th>Qty</th>\n",
       "      <th>Period</th>\n",
       "    </tr>\n",
       "  </thead>\n",
       "  <tbody>\n",
       "    <tr>\n",
       "      <th>12266</th>\n",
       "      <td>Product 1097</td>\n",
       "      <td>1</td>\n",
       "      <td>2020-01-21 13:01:25</td>\n",
       "    </tr>\n",
       "    <tr>\n",
       "      <th>12267</th>\n",
       "      <td>Product 1098</td>\n",
       "      <td>1</td>\n",
       "      <td>2020-01-21 13:01:25</td>\n",
       "    </tr>\n",
       "    <tr>\n",
       "      <th>12268</th>\n",
       "      <td>Product 673</td>\n",
       "      <td>1</td>\n",
       "      <td>2020-01-21 13:01:25</td>\n",
       "    </tr>\n",
       "  </tbody>\n",
       "</table>\n",
       "</div>"
      ],
      "text/plain": [
       "            Product  Qty              Period\n",
       "12266  Product 1097    1 2020-01-21 13:01:25\n",
       "12267  Product 1098    1 2020-01-21 13:01:25\n",
       "12268   Product 673    1 2020-01-21 13:01:25"
      ]
     },
     "execution_count": 35,
     "metadata": {},
     "output_type": "execute_result"
    }
   ],
   "source": [
    "# Подготавливаем данные для анализа.\n",
    "df4 = df.copy()\n",
    "df4 = df4[df4['Period'] > '2020-01-01'] # выбрали данные за последний год\n",
    "df4.drop(['Client', 'Order', 'Sales'], inplace=True, axis=1) # удалили ненужные столбцы\n",
    "df4.head(3)"
   ]
  },
  {
   "cell_type": "code",
   "execution_count": 36,
   "metadata": {},
   "outputs": [
    {
     "data": {
      "text/html": [
       "<div>\n",
       "<style scoped>\n",
       "    .dataframe tbody tr th:only-of-type {\n",
       "        vertical-align: middle;\n",
       "    }\n",
       "\n",
       "    .dataframe tbody tr th {\n",
       "        vertical-align: top;\n",
       "    }\n",
       "\n",
       "    .dataframe thead th {\n",
       "        text-align: right;\n",
       "    }\n",
       "</style>\n",
       "<table border=\"1\" class=\"dataframe\">\n",
       "  <thead>\n",
       "    <tr style=\"text-align: right;\">\n",
       "      <th></th>\n",
       "      <th>Product</th>\n",
       "      <th>Qty</th>\n",
       "      <th>month</th>\n",
       "    </tr>\n",
       "  </thead>\n",
       "  <tbody>\n",
       "    <tr>\n",
       "      <th>12266</th>\n",
       "      <td>Product 1097</td>\n",
       "      <td>1</td>\n",
       "      <td>1</td>\n",
       "    </tr>\n",
       "    <tr>\n",
       "      <th>12267</th>\n",
       "      <td>Product 1098</td>\n",
       "      <td>1</td>\n",
       "      <td>1</td>\n",
       "    </tr>\n",
       "  </tbody>\n",
       "</table>\n",
       "</div>"
      ],
      "text/plain": [
       "            Product  Qty  month\n",
       "12266  Product 1097    1      1\n",
       "12267  Product 1098    1      1"
      ]
     },
     "execution_count": 36,
     "metadata": {},
     "output_type": "execute_result"
    }
   ],
   "source": [
    "# Создадим новый столбец с номером месяца продажи.\n",
    "df4['month'] = df4[\"Period\"].dt.month \n",
    "df4.drop('Period', inplace=True, axis=1)\n",
    "df4.head(2)"
   ]
  },
  {
   "cell_type": "code",
   "execution_count": 37,
   "metadata": {},
   "outputs": [
    {
     "data": {
      "text/plain": [
       "array([ 1,  3,  8,  2,  4,  9, 10,  5, 11, 12,  6,  7], dtype=int64)"
      ]
     },
     "execution_count": 37,
     "metadata": {},
     "output_type": "execute_result"
    }
   ],
   "source": [
    "df4['month'].unique() # нет продаж в июле месяце, но столбец добавить нужно"
   ]
  },
  {
   "cell_type": "code",
   "execution_count": 38,
   "metadata": {
    "scrolled": true
   },
   "outputs": [
    {
     "data": {
      "text/html": [
       "<div>\n",
       "<style scoped>\n",
       "    .dataframe tbody tr th:only-of-type {\n",
       "        vertical-align: middle;\n",
       "    }\n",
       "\n",
       "    .dataframe tbody tr th {\n",
       "        vertical-align: top;\n",
       "    }\n",
       "\n",
       "    .dataframe thead th {\n",
       "        text-align: right;\n",
       "    }\n",
       "</style>\n",
       "<table border=\"1\" class=\"dataframe\">\n",
       "  <thead>\n",
       "    <tr style=\"text-align: right;\">\n",
       "      <th></th>\n",
       "      <th>month</th>\n",
       "      <th>Product</th>\n",
       "      <th>Qty</th>\n",
       "    </tr>\n",
       "  </thead>\n",
       "  <tbody>\n",
       "    <tr>\n",
       "      <th>0</th>\n",
       "      <td>1</td>\n",
       "      <td>Product 10</td>\n",
       "      <td>4</td>\n",
       "    </tr>\n",
       "    <tr>\n",
       "      <th>1</th>\n",
       "      <td>1</td>\n",
       "      <td>Product 101</td>\n",
       "      <td>45</td>\n",
       "    </tr>\n",
       "    <tr>\n",
       "      <th>2</th>\n",
       "      <td>1</td>\n",
       "      <td>Product 104</td>\n",
       "      <td>4</td>\n",
       "    </tr>\n",
       "    <tr>\n",
       "      <th>3</th>\n",
       "      <td>1</td>\n",
       "      <td>Product 1097</td>\n",
       "      <td>4</td>\n",
       "    </tr>\n",
       "    <tr>\n",
       "      <th>4</th>\n",
       "      <td>1</td>\n",
       "      <td>Product 1098</td>\n",
       "      <td>3</td>\n",
       "    </tr>\n",
       "  </tbody>\n",
       "</table>\n",
       "</div>"
      ],
      "text/plain": [
       "   month       Product  Qty\n",
       "0      1    Product 10    4\n",
       "1      1   Product 101   45\n",
       "2      1   Product 104    4\n",
       "3      1  Product 1097    4\n",
       "4      1  Product 1098    3"
      ]
     },
     "execution_count": 38,
     "metadata": {},
     "output_type": "execute_result"
    }
   ],
   "source": [
    "# Считаем количество продаж товаров по месяцам.\n",
    "df5 = df4.groupby(['month', 'Product'])['Qty'].sum().reset_index()\n",
    "df5.head()"
   ]
  },
  {
   "cell_type": "code",
   "execution_count": 39,
   "metadata": {},
   "outputs": [
    {
     "data": {
      "text/html": [
       "<div>\n",
       "<style scoped>\n",
       "    .dataframe tbody tr th:only-of-type {\n",
       "        vertical-align: middle;\n",
       "    }\n",
       "\n",
       "    .dataframe tbody tr th {\n",
       "        vertical-align: top;\n",
       "    }\n",
       "\n",
       "    .dataframe thead th {\n",
       "        text-align: right;\n",
       "    }\n",
       "</style>\n",
       "<table border=\"1\" class=\"dataframe\">\n",
       "  <thead>\n",
       "    <tr style=\"text-align: right;\">\n",
       "      <th>month</th>\n",
       "      <th>1</th>\n",
       "      <th>2</th>\n",
       "      <th>3</th>\n",
       "      <th>4</th>\n",
       "      <th>5</th>\n",
       "      <th>6</th>\n",
       "      <th>7</th>\n",
       "      <th>8</th>\n",
       "      <th>9</th>\n",
       "      <th>10</th>\n",
       "      <th>11</th>\n",
       "      <th>12</th>\n",
       "    </tr>\n",
       "    <tr>\n",
       "      <th>Product</th>\n",
       "      <th></th>\n",
       "      <th></th>\n",
       "      <th></th>\n",
       "      <th></th>\n",
       "      <th></th>\n",
       "      <th></th>\n",
       "      <th></th>\n",
       "      <th></th>\n",
       "      <th></th>\n",
       "      <th></th>\n",
       "      <th></th>\n",
       "      <th></th>\n",
       "    </tr>\n",
       "  </thead>\n",
       "  <tbody>\n",
       "    <tr>\n",
       "      <th>Product 1</th>\n",
       "      <td>0.0</td>\n",
       "      <td>1.0</td>\n",
       "      <td>3.0</td>\n",
       "      <td>0.0</td>\n",
       "      <td>6.0</td>\n",
       "      <td>1.0</td>\n",
       "      <td>2.0</td>\n",
       "      <td>2.0</td>\n",
       "      <td>2.0</td>\n",
       "      <td>0.0</td>\n",
       "      <td>1.0</td>\n",
       "      <td>2.0</td>\n",
       "    </tr>\n",
       "    <tr>\n",
       "      <th>Product 10</th>\n",
       "      <td>4.0</td>\n",
       "      <td>2.0</td>\n",
       "      <td>1.0</td>\n",
       "      <td>4.0</td>\n",
       "      <td>2.0</td>\n",
       "      <td>2.0</td>\n",
       "      <td>2.0</td>\n",
       "      <td>6.0</td>\n",
       "      <td>2.0</td>\n",
       "      <td>6.0</td>\n",
       "      <td>5.0</td>\n",
       "      <td>1.0</td>\n",
       "    </tr>\n",
       "    <tr>\n",
       "      <th>Product 10031</th>\n",
       "      <td>0.0</td>\n",
       "      <td>0.0</td>\n",
       "      <td>0.0</td>\n",
       "      <td>1.0</td>\n",
       "      <td>2.0</td>\n",
       "      <td>1.0</td>\n",
       "      <td>0.0</td>\n",
       "      <td>1.0</td>\n",
       "      <td>2.0</td>\n",
       "      <td>0.0</td>\n",
       "      <td>0.0</td>\n",
       "      <td>1.0</td>\n",
       "    </tr>\n",
       "    <tr>\n",
       "      <th>Product 101</th>\n",
       "      <td>45.0</td>\n",
       "      <td>35.0</td>\n",
       "      <td>94.0</td>\n",
       "      <td>53.0</td>\n",
       "      <td>28.0</td>\n",
       "      <td>32.0</td>\n",
       "      <td>44.0</td>\n",
       "      <td>33.0</td>\n",
       "      <td>48.0</td>\n",
       "      <td>36.0</td>\n",
       "      <td>44.0</td>\n",
       "      <td>13.0</td>\n",
       "    </tr>\n",
       "    <tr>\n",
       "      <th>Product 104</th>\n",
       "      <td>4.0</td>\n",
       "      <td>12.0</td>\n",
       "      <td>7.0</td>\n",
       "      <td>34.0</td>\n",
       "      <td>12.0</td>\n",
       "      <td>6.0</td>\n",
       "      <td>18.0</td>\n",
       "      <td>3.0</td>\n",
       "      <td>15.0</td>\n",
       "      <td>16.0</td>\n",
       "      <td>16.0</td>\n",
       "      <td>38.0</td>\n",
       "    </tr>\n",
       "    <tr>\n",
       "      <th>...</th>\n",
       "      <td>...</td>\n",
       "      <td>...</td>\n",
       "      <td>...</td>\n",
       "      <td>...</td>\n",
       "      <td>...</td>\n",
       "      <td>...</td>\n",
       "      <td>...</td>\n",
       "      <td>...</td>\n",
       "      <td>...</td>\n",
       "      <td>...</td>\n",
       "      <td>...</td>\n",
       "      <td>...</td>\n",
       "    </tr>\n",
       "    <tr>\n",
       "      <th>Product 9</th>\n",
       "      <td>0.0</td>\n",
       "      <td>1.0</td>\n",
       "      <td>0.0</td>\n",
       "      <td>0.0</td>\n",
       "      <td>0.0</td>\n",
       "      <td>1.0</td>\n",
       "      <td>0.0</td>\n",
       "      <td>0.0</td>\n",
       "      <td>0.0</td>\n",
       "      <td>0.0</td>\n",
       "      <td>0.0</td>\n",
       "      <td>0.0</td>\n",
       "    </tr>\n",
       "    <tr>\n",
       "      <th>Product 944</th>\n",
       "      <td>0.0</td>\n",
       "      <td>0.0</td>\n",
       "      <td>3.0</td>\n",
       "      <td>4.0</td>\n",
       "      <td>1.0</td>\n",
       "      <td>0.0</td>\n",
       "      <td>2.0</td>\n",
       "      <td>1.0</td>\n",
       "      <td>0.0</td>\n",
       "      <td>1.0</td>\n",
       "      <td>2.0</td>\n",
       "      <td>3.0</td>\n",
       "    </tr>\n",
       "    <tr>\n",
       "      <th>Product 954</th>\n",
       "      <td>0.0</td>\n",
       "      <td>0.0</td>\n",
       "      <td>0.0</td>\n",
       "      <td>0.0</td>\n",
       "      <td>1.0</td>\n",
       "      <td>3.0</td>\n",
       "      <td>5.0</td>\n",
       "      <td>0.0</td>\n",
       "      <td>1.0</td>\n",
       "      <td>1.0</td>\n",
       "      <td>1.0</td>\n",
       "      <td>0.0</td>\n",
       "    </tr>\n",
       "    <tr>\n",
       "      <th>Product 9681</th>\n",
       "      <td>0.0</td>\n",
       "      <td>0.0</td>\n",
       "      <td>0.0</td>\n",
       "      <td>2.0</td>\n",
       "      <td>0.0</td>\n",
       "      <td>0.0</td>\n",
       "      <td>0.0</td>\n",
       "      <td>0.0</td>\n",
       "      <td>2.0</td>\n",
       "      <td>0.0</td>\n",
       "      <td>0.0</td>\n",
       "      <td>1.0</td>\n",
       "    </tr>\n",
       "    <tr>\n",
       "      <th>Product 9760</th>\n",
       "      <td>6.0</td>\n",
       "      <td>17.0</td>\n",
       "      <td>37.0</td>\n",
       "      <td>29.0</td>\n",
       "      <td>10.0</td>\n",
       "      <td>9.0</td>\n",
       "      <td>23.0</td>\n",
       "      <td>34.0</td>\n",
       "      <td>38.0</td>\n",
       "      <td>18.0</td>\n",
       "      <td>22.0</td>\n",
       "      <td>11.0</td>\n",
       "    </tr>\n",
       "  </tbody>\n",
       "</table>\n",
       "<p>307 rows × 12 columns</p>\n",
       "</div>"
      ],
      "text/plain": [
       "month            1     2     3     4     5     6     7     8     9     10  \\\n",
       "Product                                                                     \n",
       "Product 1       0.0   1.0   3.0   0.0   6.0   1.0   2.0   2.0   2.0   0.0   \n",
       "Product 10      4.0   2.0   1.0   4.0   2.0   2.0   2.0   6.0   2.0   6.0   \n",
       "Product 10031   0.0   0.0   0.0   1.0   2.0   1.0   0.0   1.0   2.0   0.0   \n",
       "Product 101    45.0  35.0  94.0  53.0  28.0  32.0  44.0  33.0  48.0  36.0   \n",
       "Product 104     4.0  12.0   7.0  34.0  12.0   6.0  18.0   3.0  15.0  16.0   \n",
       "...             ...   ...   ...   ...   ...   ...   ...   ...   ...   ...   \n",
       "Product 9       0.0   1.0   0.0   0.0   0.0   1.0   0.0   0.0   0.0   0.0   \n",
       "Product 944     0.0   0.0   3.0   4.0   1.0   0.0   2.0   1.0   0.0   1.0   \n",
       "Product 954     0.0   0.0   0.0   0.0   1.0   3.0   5.0   0.0   1.0   1.0   \n",
       "Product 9681    0.0   0.0   0.0   2.0   0.0   0.0   0.0   0.0   2.0   0.0   \n",
       "Product 9760    6.0  17.0  37.0  29.0  10.0   9.0  23.0  34.0  38.0  18.0   \n",
       "\n",
       "month            11    12  \n",
       "Product                    \n",
       "Product 1       1.0   2.0  \n",
       "Product 10      5.0   1.0  \n",
       "Product 10031   0.0   1.0  \n",
       "Product 101    44.0  13.0  \n",
       "Product 104    16.0  38.0  \n",
       "...             ...   ...  \n",
       "Product 9       0.0   0.0  \n",
       "Product 944     2.0   3.0  \n",
       "Product 954     1.0   0.0  \n",
       "Product 9681    0.0   1.0  \n",
       "Product 9760   22.0  11.0  \n",
       "\n",
       "[307 rows x 12 columns]"
      ]
     },
     "execution_count": 39,
     "metadata": {},
     "output_type": "execute_result"
    }
   ],
   "source": [
    "# Создаем сводную таблицу продаж по всем товарам за 12 месяцев.\n",
    "df5 = df5.pivot(index='Product', columns='month', values='Qty')\n",
    "\n",
    "# NaN заменяем на 0.\n",
    "df5.fillna(0, inplace=True)\n",
    "df5"
   ]
  },
  {
   "cell_type": "code",
   "execution_count": 40,
   "metadata": {
    "scrolled": false
   },
   "outputs": [
    {
     "data": {
      "text/plain": [
       "0.9591663046625437"
      ]
     },
     "execution_count": 40,
     "metadata": {},
     "output_type": "execute_result"
    }
   ],
   "source": [
    "# Посчитаем коэффициент вариации для Продукта 1.\n",
    "std_ = df5.loc['Product 1'].std(ddof=0)\n",
    "mean_ = df5.loc['Product 1'].mean()\n",
    "coef_var = std_/mean_\n",
    "coef_var"
   ]
  },
  {
   "cell_type": "code",
   "execution_count": 41,
   "metadata": {},
   "outputs": [],
   "source": [
    "# Напишем функцию для вычисления коэффициента вариации для всех продуктов в датафрейме.\n",
    "def coef_var(name):\n",
    "    std_ = df5.loc[name].std(ddof=0)\n",
    "    mean_ = df5.loc[name].mean()\n",
    "    coef_var = std_ / mean_\n",
    "    return coef_var\n",
    "df5['coef_var'] = df5.index.map(coef_var)"
   ]
  },
  {
   "cell_type": "code",
   "execution_count": 42,
   "metadata": {},
   "outputs": [
    {
     "data": {
      "text/html": [
       "<div>\n",
       "<style scoped>\n",
       "    .dataframe tbody tr th:only-of-type {\n",
       "        vertical-align: middle;\n",
       "    }\n",
       "\n",
       "    .dataframe tbody tr th {\n",
       "        vertical-align: top;\n",
       "    }\n",
       "\n",
       "    .dataframe thead th {\n",
       "        text-align: right;\n",
       "    }\n",
       "</style>\n",
       "<table border=\"1\" class=\"dataframe\">\n",
       "  <thead>\n",
       "    <tr style=\"text-align: right;\">\n",
       "      <th>month</th>\n",
       "      <th>1</th>\n",
       "      <th>2</th>\n",
       "      <th>3</th>\n",
       "      <th>4</th>\n",
       "      <th>5</th>\n",
       "      <th>6</th>\n",
       "      <th>7</th>\n",
       "      <th>8</th>\n",
       "      <th>9</th>\n",
       "      <th>10</th>\n",
       "      <th>11</th>\n",
       "      <th>12</th>\n",
       "      <th>coef_var</th>\n",
       "    </tr>\n",
       "    <tr>\n",
       "      <th>Product</th>\n",
       "      <th></th>\n",
       "      <th></th>\n",
       "      <th></th>\n",
       "      <th></th>\n",
       "      <th></th>\n",
       "      <th></th>\n",
       "      <th></th>\n",
       "      <th></th>\n",
       "      <th></th>\n",
       "      <th></th>\n",
       "      <th></th>\n",
       "      <th></th>\n",
       "      <th></th>\n",
       "    </tr>\n",
       "  </thead>\n",
       "  <tbody>\n",
       "    <tr>\n",
       "      <th>Product 1</th>\n",
       "      <td>0.0</td>\n",
       "      <td>1.0</td>\n",
       "      <td>3.0</td>\n",
       "      <td>0.0</td>\n",
       "      <td>6.0</td>\n",
       "      <td>1.0</td>\n",
       "      <td>2.0</td>\n",
       "      <td>2.0</td>\n",
       "      <td>2.0</td>\n",
       "      <td>0.0</td>\n",
       "      <td>1.0</td>\n",
       "      <td>2.0</td>\n",
       "      <td>0.959166</td>\n",
       "    </tr>\n",
       "    <tr>\n",
       "      <th>Product 10</th>\n",
       "      <td>4.0</td>\n",
       "      <td>2.0</td>\n",
       "      <td>1.0</td>\n",
       "      <td>4.0</td>\n",
       "      <td>2.0</td>\n",
       "      <td>2.0</td>\n",
       "      <td>2.0</td>\n",
       "      <td>6.0</td>\n",
       "      <td>2.0</td>\n",
       "      <td>6.0</td>\n",
       "      <td>5.0</td>\n",
       "      <td>1.0</td>\n",
       "      <td>0.568853</td>\n",
       "    </tr>\n",
       "    <tr>\n",
       "      <th>Product 10031</th>\n",
       "      <td>0.0</td>\n",
       "      <td>0.0</td>\n",
       "      <td>0.0</td>\n",
       "      <td>1.0</td>\n",
       "      <td>2.0</td>\n",
       "      <td>1.0</td>\n",
       "      <td>0.0</td>\n",
       "      <td>1.0</td>\n",
       "      <td>2.0</td>\n",
       "      <td>0.0</td>\n",
       "      <td>0.0</td>\n",
       "      <td>1.0</td>\n",
       "      <td>1.118034</td>\n",
       "    </tr>\n",
       "    <tr>\n",
       "      <th>Product 101</th>\n",
       "      <td>45.0</td>\n",
       "      <td>35.0</td>\n",
       "      <td>94.0</td>\n",
       "      <td>53.0</td>\n",
       "      <td>28.0</td>\n",
       "      <td>32.0</td>\n",
       "      <td>44.0</td>\n",
       "      <td>33.0</td>\n",
       "      <td>48.0</td>\n",
       "      <td>36.0</td>\n",
       "      <td>44.0</td>\n",
       "      <td>13.0</td>\n",
       "      <td>0.443542</td>\n",
       "    </tr>\n",
       "    <tr>\n",
       "      <th>Product 104</th>\n",
       "      <td>4.0</td>\n",
       "      <td>12.0</td>\n",
       "      <td>7.0</td>\n",
       "      <td>34.0</td>\n",
       "      <td>12.0</td>\n",
       "      <td>6.0</td>\n",
       "      <td>18.0</td>\n",
       "      <td>3.0</td>\n",
       "      <td>15.0</td>\n",
       "      <td>16.0</td>\n",
       "      <td>16.0</td>\n",
       "      <td>38.0</td>\n",
       "      <td>0.697687</td>\n",
       "    </tr>\n",
       "    <tr>\n",
       "      <th>...</th>\n",
       "      <td>...</td>\n",
       "      <td>...</td>\n",
       "      <td>...</td>\n",
       "      <td>...</td>\n",
       "      <td>...</td>\n",
       "      <td>...</td>\n",
       "      <td>...</td>\n",
       "      <td>...</td>\n",
       "      <td>...</td>\n",
       "      <td>...</td>\n",
       "      <td>...</td>\n",
       "      <td>...</td>\n",
       "      <td>...</td>\n",
       "    </tr>\n",
       "    <tr>\n",
       "      <th>Product 9</th>\n",
       "      <td>0.0</td>\n",
       "      <td>1.0</td>\n",
       "      <td>0.0</td>\n",
       "      <td>0.0</td>\n",
       "      <td>0.0</td>\n",
       "      <td>1.0</td>\n",
       "      <td>0.0</td>\n",
       "      <td>0.0</td>\n",
       "      <td>0.0</td>\n",
       "      <td>0.0</td>\n",
       "      <td>0.0</td>\n",
       "      <td>0.0</td>\n",
       "      <td>2.236068</td>\n",
       "    </tr>\n",
       "    <tr>\n",
       "      <th>Product 944</th>\n",
       "      <td>0.0</td>\n",
       "      <td>0.0</td>\n",
       "      <td>3.0</td>\n",
       "      <td>4.0</td>\n",
       "      <td>1.0</td>\n",
       "      <td>0.0</td>\n",
       "      <td>2.0</td>\n",
       "      <td>1.0</td>\n",
       "      <td>0.0</td>\n",
       "      <td>1.0</td>\n",
       "      <td>2.0</td>\n",
       "      <td>3.0</td>\n",
       "      <td>0.931940</td>\n",
       "    </tr>\n",
       "    <tr>\n",
       "      <th>Product 954</th>\n",
       "      <td>0.0</td>\n",
       "      <td>0.0</td>\n",
       "      <td>0.0</td>\n",
       "      <td>0.0</td>\n",
       "      <td>1.0</td>\n",
       "      <td>3.0</td>\n",
       "      <td>5.0</td>\n",
       "      <td>0.0</td>\n",
       "      <td>1.0</td>\n",
       "      <td>1.0</td>\n",
       "      <td>1.0</td>\n",
       "      <td>0.0</td>\n",
       "      <td>1.471960</td>\n",
       "    </tr>\n",
       "    <tr>\n",
       "      <th>Product 9681</th>\n",
       "      <td>0.0</td>\n",
       "      <td>0.0</td>\n",
       "      <td>0.0</td>\n",
       "      <td>2.0</td>\n",
       "      <td>0.0</td>\n",
       "      <td>0.0</td>\n",
       "      <td>0.0</td>\n",
       "      <td>0.0</td>\n",
       "      <td>2.0</td>\n",
       "      <td>0.0</td>\n",
       "      <td>0.0</td>\n",
       "      <td>1.0</td>\n",
       "      <td>1.822087</td>\n",
       "    </tr>\n",
       "    <tr>\n",
       "      <th>Product 9760</th>\n",
       "      <td>6.0</td>\n",
       "      <td>17.0</td>\n",
       "      <td>37.0</td>\n",
       "      <td>29.0</td>\n",
       "      <td>10.0</td>\n",
       "      <td>9.0</td>\n",
       "      <td>23.0</td>\n",
       "      <td>34.0</td>\n",
       "      <td>38.0</td>\n",
       "      <td>18.0</td>\n",
       "      <td>22.0</td>\n",
       "      <td>11.0</td>\n",
       "      <td>0.509869</td>\n",
       "    </tr>\n",
       "  </tbody>\n",
       "</table>\n",
       "<p>307 rows × 13 columns</p>\n",
       "</div>"
      ],
      "text/plain": [
       "month             1     2     3     4     5     6     7     8     9    10  \\\n",
       "Product                                                                     \n",
       "Product 1       0.0   1.0   3.0   0.0   6.0   1.0   2.0   2.0   2.0   0.0   \n",
       "Product 10      4.0   2.0   1.0   4.0   2.0   2.0   2.0   6.0   2.0   6.0   \n",
       "Product 10031   0.0   0.0   0.0   1.0   2.0   1.0   0.0   1.0   2.0   0.0   \n",
       "Product 101    45.0  35.0  94.0  53.0  28.0  32.0  44.0  33.0  48.0  36.0   \n",
       "Product 104     4.0  12.0   7.0  34.0  12.0   6.0  18.0   3.0  15.0  16.0   \n",
       "...             ...   ...   ...   ...   ...   ...   ...   ...   ...   ...   \n",
       "Product 9       0.0   1.0   0.0   0.0   0.0   1.0   0.0   0.0   0.0   0.0   \n",
       "Product 944     0.0   0.0   3.0   4.0   1.0   0.0   2.0   1.0   0.0   1.0   \n",
       "Product 954     0.0   0.0   0.0   0.0   1.0   3.0   5.0   0.0   1.0   1.0   \n",
       "Product 9681    0.0   0.0   0.0   2.0   0.0   0.0   0.0   0.0   2.0   0.0   \n",
       "Product 9760    6.0  17.0  37.0  29.0  10.0   9.0  23.0  34.0  38.0  18.0   \n",
       "\n",
       "month            11    12  coef_var  \n",
       "Product                              \n",
       "Product 1       1.0   2.0  0.959166  \n",
       "Product 10      5.0   1.0  0.568853  \n",
       "Product 10031   0.0   1.0  1.118034  \n",
       "Product 101    44.0  13.0  0.443542  \n",
       "Product 104    16.0  38.0  0.697687  \n",
       "...             ...   ...       ...  \n",
       "Product 9       0.0   0.0  2.236068  \n",
       "Product 944     2.0   3.0  0.931940  \n",
       "Product 954     1.0   0.0  1.471960  \n",
       "Product 9681    0.0   1.0  1.822087  \n",
       "Product 9760   22.0  11.0  0.509869  \n",
       "\n",
       "[307 rows x 13 columns]"
      ]
     },
     "execution_count": 42,
     "metadata": {},
     "output_type": "execute_result"
    }
   ],
   "source": [
    "df5"
   ]
  },
  {
   "cell_type": "code",
   "execution_count": 43,
   "metadata": {},
   "outputs": [],
   "source": [
    "xyz = df5.drop([1, 2, 3, 4, 5, 6, 7, 8, 9, 10, 11, 12], axis=1)\n",
    "xyz.reset_index(inplace=True)"
   ]
  },
  {
   "cell_type": "code",
   "execution_count": 44,
   "metadata": {
    "scrolled": true
   },
   "outputs": [
    {
     "data": {
      "text/html": [
       "<div>\n",
       "<style scoped>\n",
       "    .dataframe tbody tr th:only-of-type {\n",
       "        vertical-align: middle;\n",
       "    }\n",
       "\n",
       "    .dataframe tbody tr th {\n",
       "        vertical-align: top;\n",
       "    }\n",
       "\n",
       "    .dataframe thead th {\n",
       "        text-align: right;\n",
       "    }\n",
       "</style>\n",
       "<table border=\"1\" class=\"dataframe\">\n",
       "  <thead>\n",
       "    <tr style=\"text-align: right;\">\n",
       "      <th>month</th>\n",
       "      <th>Product</th>\n",
       "      <th>coef_var</th>\n",
       "    </tr>\n",
       "  </thead>\n",
       "  <tbody>\n",
       "    <tr>\n",
       "      <th>116</th>\n",
       "      <td>Product 2</td>\n",
       "      <td>0.236299</td>\n",
       "    </tr>\n",
       "    <tr>\n",
       "      <th>178</th>\n",
       "      <td>Product 3</td>\n",
       "      <td>0.248323</td>\n",
       "    </tr>\n",
       "    <tr>\n",
       "      <th>211</th>\n",
       "      <td>Product 4</td>\n",
       "      <td>0.277822</td>\n",
       "    </tr>\n",
       "    <tr>\n",
       "      <th>218</th>\n",
       "      <td>Product 43</td>\n",
       "      <td>0.288517</td>\n",
       "    </tr>\n",
       "    <tr>\n",
       "      <th>244</th>\n",
       "      <td>Product 5</td>\n",
       "      <td>0.318949</td>\n",
       "    </tr>\n",
       "    <tr>\n",
       "      <th>...</th>\n",
       "      <td>...</td>\n",
       "      <td>...</td>\n",
       "    </tr>\n",
       "    <tr>\n",
       "      <th>74</th>\n",
       "      <td>Product 15870</td>\n",
       "      <td>3.316625</td>\n",
       "    </tr>\n",
       "    <tr>\n",
       "      <th>234</th>\n",
       "      <td>Product 481</td>\n",
       "      <td>3.316625</td>\n",
       "    </tr>\n",
       "    <tr>\n",
       "      <th>138</th>\n",
       "      <td>Product 21697</td>\n",
       "      <td>3.316625</td>\n",
       "    </tr>\n",
       "    <tr>\n",
       "      <th>136</th>\n",
       "      <td>Product 21695</td>\n",
       "      <td>3.316625</td>\n",
       "    </tr>\n",
       "    <tr>\n",
       "      <th>92</th>\n",
       "      <td>Product 17472</td>\n",
       "      <td>3.316625</td>\n",
       "    </tr>\n",
       "  </tbody>\n",
       "</table>\n",
       "<p>307 rows × 2 columns</p>\n",
       "</div>"
      ],
      "text/plain": [
       "month        Product  coef_var\n",
       "116        Product 2  0.236299\n",
       "178        Product 3  0.248323\n",
       "211        Product 4  0.277822\n",
       "218       Product 43  0.288517\n",
       "244        Product 5  0.318949\n",
       "..               ...       ...\n",
       "74     Product 15870  3.316625\n",
       "234      Product 481  3.316625\n",
       "138    Product 21697  3.316625\n",
       "136    Product 21695  3.316625\n",
       "92     Product 17472  3.316625\n",
       "\n",
       "[307 rows x 2 columns]"
      ]
     },
     "execution_count": 44,
     "metadata": {},
     "output_type": "execute_result"
    }
   ],
   "source": [
    "xyz.sort_values('coef_var')"
   ]
  },
  {
   "cell_type": "code",
   "execution_count": 45,
   "metadata": {},
   "outputs": [],
   "source": [
    "# Группируем товары.\n",
    "def group2(coef):\n",
    "    if coef <= 0.3:\n",
    "        return 'X'\n",
    "    elif coef > 0.3 and coef <= 0.5:\n",
    "        return 'Y'\n",
    "    else:\n",
    "        return 'Z'\n",
    "\n",
    "df5['XYZ'] = df5['coef_var'].map(group2)"
   ]
  },
  {
   "cell_type": "code",
   "execution_count": 46,
   "metadata": {},
   "outputs": [
    {
     "data": {
      "text/plain": [
       "Z    275\n",
       "Y     28\n",
       "X      4\n",
       "Name: XYZ, dtype: int64"
      ]
     },
     "execution_count": 46,
     "metadata": {},
     "output_type": "execute_result"
    }
   ],
   "source": [
    "df5['XYZ'].value_counts()"
   ]
  },
  {
   "cell_type": "code",
   "execution_count": 47,
   "metadata": {
    "scrolled": false
   },
   "outputs": [
    {
     "data": {
      "text/html": [
       "<div>\n",
       "<style scoped>\n",
       "    .dataframe tbody tr th:only-of-type {\n",
       "        vertical-align: middle;\n",
       "    }\n",
       "\n",
       "    .dataframe tbody tr th {\n",
       "        vertical-align: top;\n",
       "    }\n",
       "\n",
       "    .dataframe thead th {\n",
       "        text-align: right;\n",
       "    }\n",
       "</style>\n",
       "<table border=\"1\" class=\"dataframe\">\n",
       "  <thead>\n",
       "    <tr style=\"text-align: right;\">\n",
       "      <th>month</th>\n",
       "      <th>1</th>\n",
       "      <th>2</th>\n",
       "      <th>3</th>\n",
       "      <th>4</th>\n",
       "      <th>5</th>\n",
       "      <th>6</th>\n",
       "      <th>7</th>\n",
       "      <th>8</th>\n",
       "      <th>9</th>\n",
       "      <th>10</th>\n",
       "      <th>11</th>\n",
       "      <th>12</th>\n",
       "      <th>coef_var</th>\n",
       "      <th>XYZ</th>\n",
       "    </tr>\n",
       "    <tr>\n",
       "      <th>Product</th>\n",
       "      <th></th>\n",
       "      <th></th>\n",
       "      <th></th>\n",
       "      <th></th>\n",
       "      <th></th>\n",
       "      <th></th>\n",
       "      <th></th>\n",
       "      <th></th>\n",
       "      <th></th>\n",
       "      <th></th>\n",
       "      <th></th>\n",
       "      <th></th>\n",
       "      <th></th>\n",
       "      <th></th>\n",
       "    </tr>\n",
       "  </thead>\n",
       "  <tbody>\n",
       "    <tr>\n",
       "      <th>Product 2</th>\n",
       "      <td>32.0</td>\n",
       "      <td>70.0</td>\n",
       "      <td>68.0</td>\n",
       "      <td>78.0</td>\n",
       "      <td>56.0</td>\n",
       "      <td>50.0</td>\n",
       "      <td>46.0</td>\n",
       "      <td>50.0</td>\n",
       "      <td>64.0</td>\n",
       "      <td>76.0</td>\n",
       "      <td>57.0</td>\n",
       "      <td>42.0</td>\n",
       "      <td>0.236299</td>\n",
       "      <td>X</td>\n",
       "    </tr>\n",
       "    <tr>\n",
       "      <th>Product 3</th>\n",
       "      <td>66.0</td>\n",
       "      <td>135.0</td>\n",
       "      <td>139.0</td>\n",
       "      <td>182.0</td>\n",
       "      <td>99.0</td>\n",
       "      <td>115.0</td>\n",
       "      <td>119.0</td>\n",
       "      <td>105.0</td>\n",
       "      <td>149.0</td>\n",
       "      <td>146.0</td>\n",
       "      <td>125.0</td>\n",
       "      <td>82.0</td>\n",
       "      <td>0.248323</td>\n",
       "      <td>X</td>\n",
       "    </tr>\n",
       "    <tr>\n",
       "      <th>Product 4</th>\n",
       "      <td>32.0</td>\n",
       "      <td>73.0</td>\n",
       "      <td>71.0</td>\n",
       "      <td>89.0</td>\n",
       "      <td>53.0</td>\n",
       "      <td>56.0</td>\n",
       "      <td>50.0</td>\n",
       "      <td>53.0</td>\n",
       "      <td>65.0</td>\n",
       "      <td>86.0</td>\n",
       "      <td>58.0</td>\n",
       "      <td>37.0</td>\n",
       "      <td>0.277822</td>\n",
       "      <td>X</td>\n",
       "    </tr>\n",
       "    <tr>\n",
       "      <th>Product 43</th>\n",
       "      <td>16.0</td>\n",
       "      <td>28.0</td>\n",
       "      <td>46.0</td>\n",
       "      <td>64.0</td>\n",
       "      <td>41.0</td>\n",
       "      <td>41.0</td>\n",
       "      <td>46.0</td>\n",
       "      <td>39.0</td>\n",
       "      <td>52.0</td>\n",
       "      <td>31.0</td>\n",
       "      <td>37.0</td>\n",
       "      <td>40.0</td>\n",
       "      <td>0.288517</td>\n",
       "      <td>X</td>\n",
       "    </tr>\n",
       "  </tbody>\n",
       "</table>\n",
       "</div>"
      ],
      "text/plain": [
       "month          1      2      3      4     5      6      7      8      9  \\\n",
       "Product                                                                   \n",
       "Product 2   32.0   70.0   68.0   78.0  56.0   50.0   46.0   50.0   64.0   \n",
       "Product 3   66.0  135.0  139.0  182.0  99.0  115.0  119.0  105.0  149.0   \n",
       "Product 4   32.0   73.0   71.0   89.0  53.0   56.0   50.0   53.0   65.0   \n",
       "Product 43  16.0   28.0   46.0   64.0  41.0   41.0   46.0   39.0   52.0   \n",
       "\n",
       "month          10     11    12  coef_var XYZ  \n",
       "Product                                       \n",
       "Product 2    76.0   57.0  42.0  0.236299   X  \n",
       "Product 3   146.0  125.0  82.0  0.248323   X  \n",
       "Product 4    86.0   58.0  37.0  0.277822   X  \n",
       "Product 43   31.0   37.0  40.0  0.288517   X  "
      ]
     },
     "execution_count": 47,
     "metadata": {},
     "output_type": "execute_result"
    }
   ],
   "source": [
    "df5[df5['XYZ'] == 'X']"
   ]
  },
  {
   "cell_type": "code",
   "execution_count": 48,
   "metadata": {},
   "outputs": [
    {
     "data": {
      "text/plain": [
       "Text(0.5, 1.0, 'Количество товаров в каждой группе')"
      ]
     },
     "execution_count": 48,
     "metadata": {},
     "output_type": "execute_result"
    },
    {
     "data": {
      "image/png": "[encoded data removed]",
      "text/plain": [
       "<Figure size 576x504 with 1 Axes>"
      ]
     },
     "metadata": {},
     "output_type": "display_data"
    }
   ],
   "source": [
    "# Визуализируем.\n",
    "df5_ = df5['XYZ'].value_counts()\n",
    "df5_.plot(kind='pie', autopct='%1.1f%%', colors=['lightpink', 'lightblue', 'lightyellow'], figsize=(8, 7), legend=True)\n",
    "plt.title('Количество товаров в каждой группе')"
   ]
  },
  {
   "cell_type": "markdown",
   "metadata": {},
   "source": [
    "##### Выводы\n",
    "Значения, определяющие \"X\", \"Y\" и \"Z\" для всех рынков свои. Выше мы предполагали некую сезонность, соответственно, мы не можем ограничивать группу \"Х\" 10%, т.к. у нас таких товаров попросту нет.  \n",
    "Т.о. 4 товара (Product 2, Product 3, Product 4 и Product 43) характеризуются более-менее стабильной величиной потребления, незначительными колебаниями в их расходе и высокой точностью прогноза(займемся этим вопросом дальше).  \n",
    "Товары группы \"Y\" характеризуются известными тенденциями определения потребности в них (например, сезонными колебаниями) и средними возможностями их прогнозирования.  \n",
    "Потребление товаров из \"Z\" нерегулярно, какие-либо тенденции отсутствуют, точность прогнозирования невысокая."
   ]
  },
  {
   "cell_type": "markdown",
   "metadata": {},
   "source": [
    "### Прогноз продаж (для 4 товаров: 2, 3, 4, 43)"
   ]
  },
  {
   "cell_type": "code",
   "execution_count": 49,
   "metadata": {},
   "outputs": [],
   "source": [
    "df6 = df.copy()"
   ]
  },
  {
   "cell_type": "code",
   "execution_count": 50,
   "metadata": {
    "scrolled": true
   },
   "outputs": [
    {
     "data": {
      "text/html": [
       "<div>\n",
       "<style scoped>\n",
       "    .dataframe tbody tr th:only-of-type {\n",
       "        vertical-align: middle;\n",
       "    }\n",
       "\n",
       "    .dataframe tbody tr th {\n",
       "        vertical-align: top;\n",
       "    }\n",
       "\n",
       "    .dataframe thead th {\n",
       "        text-align: right;\n",
       "    }\n",
       "</style>\n",
       "<table border=\"1\" class=\"dataframe\">\n",
       "  <thead>\n",
       "    <tr style=\"text-align: right;\">\n",
       "      <th></th>\n",
       "      <th>Product</th>\n",
       "      <th>Client</th>\n",
       "      <th>Order</th>\n",
       "      <th>Qty</th>\n",
       "      <th>Sales</th>\n",
       "      <th>Period</th>\n",
       "    </tr>\n",
       "  </thead>\n",
       "  <tbody>\n",
       "    <tr>\n",
       "      <th>1</th>\n",
       "      <td>Product 2</td>\n",
       "      <td>Клієнт 2</td>\n",
       "      <td>78554</td>\n",
       "      <td>1</td>\n",
       "      <td>6.093023</td>\n",
       "      <td>2019-02-07 09:42:14</td>\n",
       "    </tr>\n",
       "    <tr>\n",
       "      <th>2</th>\n",
       "      <td>Product 3</td>\n",
       "      <td>Клієнт 2</td>\n",
       "      <td>78554</td>\n",
       "      <td>1</td>\n",
       "      <td>3.193023</td>\n",
       "      <td>2019-02-07 09:42:14</td>\n",
       "    </tr>\n",
       "  </tbody>\n",
       "</table>\n",
       "</div>"
      ],
      "text/plain": [
       "     Product    Client  Order  Qty     Sales              Period\n",
       "1  Product 2  Клієнт 2  78554    1  6.093023 2019-02-07 09:42:14\n",
       "2  Product 3  Клієнт 2  78554    1  3.193023 2019-02-07 09:42:14"
      ]
     },
     "execution_count": 50,
     "metadata": {},
     "output_type": "execute_result"
    }
   ],
   "source": [
    "# Выберем в новый датафрейм только те товары, по которым будем строить прогноз.\n",
    "df6 = df6[(df6['Product'] == 'Product 2') | (df6['Product'] == 'Product 3') |\n",
    "          (df6['Product'] == 'Product 4') | (df6['Product'] == 'Product 43')]\n",
    "df6.head(2)"
   ]
  },
  {
   "cell_type": "code",
   "execution_count": 51,
   "metadata": {},
   "outputs": [
    {
     "name": "stdout",
     "output_type": "stream",
     "text": [
      "<class 'pandas.core.frame.DataFrame'>\n",
      "Int64Index: 4277 entries, 1 to 27971\n",
      "Data columns (total 6 columns):\n",
      " #   Column   Non-Null Count  Dtype         \n",
      "---  ------   --------------  -----         \n",
      " 0   Product  4277 non-null   object        \n",
      " 1   Client   4277 non-null   object        \n",
      " 2   Order    4277 non-null   object        \n",
      " 3   Qty      4277 non-null   int64         \n",
      " 4   Sales    4277 non-null   float64       \n",
      " 5   Period   4277 non-null   datetime64[ns]\n",
      "dtypes: datetime64[ns](1), float64(1), int64(1), object(3)\n",
      "memory usage: 233.9+ KB\n"
     ]
    }
   ],
   "source": [
    "df6.info()"
   ]
  },
  {
   "cell_type": "code",
   "execution_count": 52,
   "metadata": {},
   "outputs": [
    {
     "data": {
      "text/plain": [
       "(Timestamp('2018-01-11 09:34:12'),\n",
       " Timestamp('2020-12-31 09:00:00'),\n",
       " Timedelta('1084 days 23:25:48'))"
      ]
     },
     "execution_count": 52,
     "metadata": {},
     "output_type": "execute_result"
    }
   ],
   "source": [
    "df6['Period'].min(), df6['Period'].max(), df6['Period'].max()-df6['Period'].min()"
   ]
  },
  {
   "cell_type": "code",
   "execution_count": 53,
   "metadata": {},
   "outputs": [
    {
     "data": {
      "text/plain": [
       "Text(0.5, 1.0, 'Суммы продаж по годам')"
      ]
     },
     "execution_count": 53,
     "metadata": {},
     "output_type": "execute_result"
    },
    {
     "data": {
      "image/png": "[encoded data removed]",
      "text/plain": [
       "<Figure size 864x288 with 1 Axes>"
      ]
     },
     "metadata": {
      "needs_background": "light"
     },
     "output_type": "display_data"
    }
   ],
   "source": [
    "# Посмотрим на суммы продаж по годам.\n",
    "fig, axs = plt.subplots(figsize=(12, 4))\n",
    "df6.groupby(df6[\"Period\"].dt.year)[\"Sales\"].sum().plot(kind='bar', rot=0, ax=axs, color='pink')\n",
    "\n",
    "plt.xlabel(\"Год\");\n",
    "plt.ylabel(\"Продажи\");\n",
    "plt.title(\"Суммы продаж по годам\")"
   ]
  },
  {
   "cell_type": "markdown",
   "metadata": {},
   "source": [
    "Можем наблюдать восходящий тренд. "
   ]
  },
  {
   "cell_type": "code",
   "execution_count": 54,
   "metadata": {
    "scrolled": true
   },
   "outputs": [
    {
     "data": {
      "text/plain": [
       "Text(0.5, 1.0, 'Суммы продаж по месяцам')"
      ]
     },
     "execution_count": 54,
     "metadata": {},
     "output_type": "execute_result"
    },
    {
     "data": {
      "image/png": "[encoded data removed]",
      "text/plain": [
       "<Figure size 864x288 with 1 Axes>"
      ]
     },
     "metadata": {
      "needs_background": "light"
     },
     "output_type": "display_data"
    }
   ],
   "source": [
    "# Посмотрим на суммы продажи по месяцам.\n",
    "fig, axs = plt.subplots(figsize=(12, 4))\n",
    "df6.groupby(df6[\"Period\"].dt.month)[\"Sales\"].sum().plot(kind='bar', rot=0, ax=axs, color='pink')\n",
    "\n",
    "plt.xlabel(\"Месяц\");\n",
    "plt.ylabel(\"Продажи\");\n",
    "plt.title(\"Суммы продаж по месяцам\")"
   ]
  },
  {
   "cell_type": "markdown",
   "metadata": {},
   "source": [
    "По прежнему видим, что весной и осенью объемы продаж увеличиваются, что свидетельствует о наличии сезонности."
   ]
  },
  {
   "cell_type": "code",
   "execution_count": 55,
   "metadata": {
    "scrolled": true
   },
   "outputs": [
    {
     "data": {
      "text/html": [
       "<div>\n",
       "<style scoped>\n",
       "    .dataframe tbody tr th:only-of-type {\n",
       "        vertical-align: middle;\n",
       "    }\n",
       "\n",
       "    .dataframe tbody tr th {\n",
       "        vertical-align: top;\n",
       "    }\n",
       "\n",
       "    .dataframe thead th {\n",
       "        text-align: right;\n",
       "    }\n",
       "</style>\n",
       "<table border=\"1\" class=\"dataframe\">\n",
       "  <thead>\n",
       "    <tr style=\"text-align: right;\">\n",
       "      <th></th>\n",
       "      <th>Product</th>\n",
       "      <th>Sales</th>\n",
       "      <th>Period</th>\n",
       "    </tr>\n",
       "  </thead>\n",
       "  <tbody>\n",
       "    <tr>\n",
       "      <th>1</th>\n",
       "      <td>Product 2</td>\n",
       "      <td>6.093023</td>\n",
       "      <td>2019-02-01</td>\n",
       "    </tr>\n",
       "    <tr>\n",
       "      <th>2</th>\n",
       "      <td>Product 3</td>\n",
       "      <td>3.193023</td>\n",
       "      <td>2019-02-01</td>\n",
       "    </tr>\n",
       "  </tbody>\n",
       "</table>\n",
       "</div>"
      ],
      "text/plain": [
       "     Product     Sales     Period\n",
       "1  Product 2  6.093023 2019-02-01\n",
       "2  Product 3  3.193023 2019-02-01"
      ]
     },
     "execution_count": 55,
     "metadata": {},
     "output_type": "execute_result"
    }
   ],
   "source": [
    "# Обрежем время и дни в датах.\n",
    "df6['Period'] = pd.to_datetime(df6['Period']).dt.strftime('%Y-%m')\n",
    "df6['Period'] = pd.to_datetime(df6['Period'])\n",
    "\n",
    "# Удалим ненужные столбцы.\n",
    "df6.drop(['Client', 'Order', 'Qty'], axis=1, inplace=True)\n",
    "df6.head(2)"
   ]
  },
  {
   "cell_type": "code",
   "execution_count": 56,
   "metadata": {},
   "outputs": [
    {
     "data": {
      "text/html": [
       "<div>\n",
       "<style scoped>\n",
       "    .dataframe tbody tr th:only-of-type {\n",
       "        vertical-align: middle;\n",
       "    }\n",
       "\n",
       "    .dataframe tbody tr th {\n",
       "        vertical-align: top;\n",
       "    }\n",
       "\n",
       "    .dataframe thead th {\n",
       "        text-align: right;\n",
       "    }\n",
       "</style>\n",
       "<table border=\"1\" class=\"dataframe\">\n",
       "  <thead>\n",
       "    <tr style=\"text-align: right;\">\n",
       "      <th>Product</th>\n",
       "      <th>Product 2</th>\n",
       "      <th>Product 3</th>\n",
       "      <th>Product 4</th>\n",
       "      <th>Product 43</th>\n",
       "    </tr>\n",
       "    <tr>\n",
       "      <th>Period</th>\n",
       "      <th></th>\n",
       "      <th></th>\n",
       "      <th></th>\n",
       "      <th></th>\n",
       "    </tr>\n",
       "  </thead>\n",
       "  <tbody>\n",
       "    <tr>\n",
       "      <th>2018-01-01</th>\n",
       "      <td>NaN</td>\n",
       "      <td>5.897674</td>\n",
       "      <td>5.811628</td>\n",
       "      <td>4.630233</td>\n",
       "    </tr>\n",
       "    <tr>\n",
       "      <th>2018-02-01</th>\n",
       "      <td>12.234884</td>\n",
       "      <td>12.888372</td>\n",
       "      <td>12.558140</td>\n",
       "      <td>10.288372</td>\n",
       "    </tr>\n",
       "    <tr>\n",
       "      <th>2018-03-01</th>\n",
       "      <td>NaN</td>\n",
       "      <td>6.225581</td>\n",
       "      <td>12.269767</td>\n",
       "      <td>NaN</td>\n",
       "    </tr>\n",
       "    <tr>\n",
       "      <th>2018-04-01</th>\n",
       "      <td>NaN</td>\n",
       "      <td>6.555814</td>\n",
       "      <td>NaN</td>\n",
       "      <td>NaN</td>\n",
       "    </tr>\n",
       "    <tr>\n",
       "      <th>2018-05-01</th>\n",
       "      <td>22.834884</td>\n",
       "      <td>36.158140</td>\n",
       "      <td>23.506977</td>\n",
       "      <td>14.916279</td>\n",
       "    </tr>\n",
       "  </tbody>\n",
       "</table>\n",
       "</div>"
      ],
      "text/plain": [
       "Product     Product 2  Product 3  Product 4  Product 43\n",
       "Period                                                 \n",
       "2018-01-01        NaN   5.897674   5.811628    4.630233\n",
       "2018-02-01  12.234884  12.888372  12.558140   10.288372\n",
       "2018-03-01        NaN   6.225581  12.269767         NaN\n",
       "2018-04-01        NaN   6.555814        NaN         NaN\n",
       "2018-05-01  22.834884  36.158140  23.506977   14.916279"
      ]
     },
     "execution_count": 56,
     "metadata": {},
     "output_type": "execute_result"
    }
   ],
   "source": [
    "# Сделаем сводную таблицу по всем продуктам и индексами-датами.\n",
    "df6_ = df6.pivot_table(index=\"Period\", columns=\"Product\", values=\"Sales\", aggfunc=np.sum)\n",
    "df6_.head()"
   ]
  },
  {
   "cell_type": "code",
   "execution_count": 57,
   "metadata": {
    "scrolled": true
   },
   "outputs": [
    {
     "data": {
      "text/plain": [
       "Text(0.5, 1.0, 'Объемы продаж выбранных товаров')"
      ]
     },
     "execution_count": 57,
     "metadata": {},
     "output_type": "execute_result"
    },
    {
     "data": {
      "image/png": "[encoded data removed]",
      "text/plain": [
       "<Figure size 864x360 with 1 Axes>"
      ]
     },
     "metadata": {
      "needs_background": "light"
     },
     "output_type": "display_data"
    }
   ],
   "source": [
    "# Построим графики объёма продаж каждого товара.\n",
    "df6_.plot(color=('pink', 'hotpink', 'red', 'wheat'), style=\"-o\", figsize=(12, 5), legend=True)\n",
    "plt.xlabel(\"Период\");\n",
    "plt.ylabel(\"Продажи\");\n",
    "plt.title(\"Объемы продаж выбранных товаров\")"
   ]
  },
  {
   "cell_type": "markdown",
   "metadata": {},
   "source": [
    "Продолжаем улавливать сезонность и для каждого товара в отдельности."
   ]
  },
  {
   "cell_type": "code",
   "execution_count": 58,
   "metadata": {},
   "outputs": [
    {
     "data": {
      "text/html": [
       "<div>\n",
       "<style scoped>\n",
       "    .dataframe tbody tr th:only-of-type {\n",
       "        vertical-align: middle;\n",
       "    }\n",
       "\n",
       "    .dataframe tbody tr th {\n",
       "        vertical-align: top;\n",
       "    }\n",
       "\n",
       "    .dataframe thead th {\n",
       "        text-align: right;\n",
       "    }\n",
       "</style>\n",
       "<table border=\"1\" class=\"dataframe\">\n",
       "  <thead>\n",
       "    <tr style=\"text-align: right;\">\n",
       "      <th></th>\n",
       "      <th>count</th>\n",
       "      <th>mean</th>\n",
       "      <th>std</th>\n",
       "      <th>min</th>\n",
       "      <th>25%</th>\n",
       "      <th>50%</th>\n",
       "      <th>75%</th>\n",
       "      <th>max</th>\n",
       "    </tr>\n",
       "    <tr>\n",
       "      <th>Product</th>\n",
       "      <th></th>\n",
       "      <th></th>\n",
       "      <th></th>\n",
       "      <th></th>\n",
       "      <th></th>\n",
       "      <th></th>\n",
       "      <th></th>\n",
       "      <th></th>\n",
       "    </tr>\n",
       "  </thead>\n",
       "  <tbody>\n",
       "    <tr>\n",
       "      <th>Product 2</th>\n",
       "      <td>841.0</td>\n",
       "      <td>9.143384</td>\n",
       "      <td>8.633245</td>\n",
       "      <td>2.906977</td>\n",
       "      <td>5.953488</td>\n",
       "      <td>6.332558</td>\n",
       "      <td>7.081395</td>\n",
       "      <td>120.411628</td>\n",
       "    </tr>\n",
       "    <tr>\n",
       "      <th>Product 3</th>\n",
       "      <td>1899.0</td>\n",
       "      <td>4.708757</td>\n",
       "      <td>4.372737</td>\n",
       "      <td>2.123256</td>\n",
       "      <td>3.183721</td>\n",
       "      <td>3.362791</td>\n",
       "      <td>3.558140</td>\n",
       "      <td>73.367442</td>\n",
       "    </tr>\n",
       "    <tr>\n",
       "      <th>Product 4</th>\n",
       "      <td>878.0</td>\n",
       "      <td>9.968287</td>\n",
       "      <td>9.119894</td>\n",
       "      <td>3.232558</td>\n",
       "      <td>6.330814</td>\n",
       "      <td>6.695349</td>\n",
       "      <td>11.013953</td>\n",
       "      <td>123.153488</td>\n",
       "    </tr>\n",
       "    <tr>\n",
       "      <th>Product 43</th>\n",
       "      <td>659.0</td>\n",
       "      <td>6.320037</td>\n",
       "      <td>3.432119</td>\n",
       "      <td>3.400000</td>\n",
       "      <td>4.988372</td>\n",
       "      <td>5.297674</td>\n",
       "      <td>5.519767</td>\n",
       "      <td>30.441860</td>\n",
       "    </tr>\n",
       "  </tbody>\n",
       "</table>\n",
       "</div>"
      ],
      "text/plain": [
       "             count      mean       std       min       25%       50%  \\\n",
       "Product                                                                \n",
       "Product 2    841.0  9.143384  8.633245  2.906977  5.953488  6.332558   \n",
       "Product 3   1899.0  4.708757  4.372737  2.123256  3.183721  3.362791   \n",
       "Product 4    878.0  9.968287  9.119894  3.232558  6.330814  6.695349   \n",
       "Product 43   659.0  6.320037  3.432119  3.400000  4.988372  5.297674   \n",
       "\n",
       "                  75%         max  \n",
       "Product                            \n",
       "Product 2    7.081395  120.411628  \n",
       "Product 3    3.558140   73.367442  \n",
       "Product 4   11.013953  123.153488  \n",
       "Product 43   5.519767   30.441860  "
      ]
     },
     "execution_count": 58,
     "metadata": {},
     "output_type": "execute_result"
    }
   ],
   "source": [
    "# Рассмотрим внимательнее наши товары и то, как между ними распределются продажи.\n",
    "df6.groupby('Product')['Sales'].describe()"
   ]
  },
  {
   "cell_type": "code",
   "execution_count": 59,
   "metadata": {
    "scrolled": true
   },
   "outputs": [],
   "source": [
    "# Yдалим название индексов и колонок после ресета.\n",
    "df7 = df6_.rename_axis(None)\n",
    "df7.columns.name = None\n",
    "df7.reset_index(inplace=True)\n",
    "df7.fillna(0.0, inplace=True)"
   ]
  },
  {
   "cell_type": "code",
   "execution_count": 60,
   "metadata": {},
   "outputs": [],
   "source": [
    "# Продлим наш датафрейм на прогнозируемый период.\n",
    "df8 = df7.copy()\n",
    "df8 = df8.iloc[-12:, :]\n",
    "df8.loc[:, ['Product 2', 'Product 3', 'Product 4', 'Product 43']] = np.nan\n",
    "\n",
    "def repl(string):\n",
    "    new_date = string.replace('2020','2021')\n",
    "    return new_date\n",
    "\n",
    "df8['index'] = df8['index'].dt.strftime('%Y-%m-%d').map(repl)\n",
    "df8['index'] = pd.to_datetime(df8['index'])"
   ]
  },
  {
   "cell_type": "code",
   "execution_count": 61,
   "metadata": {},
   "outputs": [],
   "source": [
    "df7 = df7.append(df8)\n",
    "df7.reset_index(inplace=True)\n",
    "df7.drop('level_0', axis=1, inplace=True)"
   ]
  },
  {
   "cell_type": "code",
   "execution_count": 62,
   "metadata": {},
   "outputs": [],
   "source": [
    "# Создадим регрессионную переменную month_num - порядковый номер пары (месяц, год).\n",
    "df9 = df7.copy()\n",
    "df9['month_num'] = range(1, len(df7) + 1)"
   ]
  },
  {
   "cell_type": "code",
   "execution_count": 63,
   "metadata": {},
   "outputs": [
    {
     "data": {
      "text/html": [
       "<div>\n",
       "<style scoped>\n",
       "    .dataframe tbody tr th:only-of-type {\n",
       "        vertical-align: middle;\n",
       "    }\n",
       "\n",
       "    .dataframe tbody tr th {\n",
       "        vertical-align: top;\n",
       "    }\n",
       "\n",
       "    .dataframe thead th {\n",
       "        text-align: right;\n",
       "    }\n",
       "</style>\n",
       "<table border=\"1\" class=\"dataframe\">\n",
       "  <thead>\n",
       "    <tr style=\"text-align: right;\">\n",
       "      <th></th>\n",
       "      <th>Product 2</th>\n",
       "      <th>Product 3</th>\n",
       "      <th>Product 4</th>\n",
       "      <th>Product 43</th>\n",
       "      <th>month_num</th>\n",
       "      <th>Year</th>\n",
       "      <th>Month</th>\n",
       "    </tr>\n",
       "  </thead>\n",
       "  <tbody>\n",
       "    <tr>\n",
       "      <th>0</th>\n",
       "      <td>0.000000</td>\n",
       "      <td>5.897674</td>\n",
       "      <td>5.811628</td>\n",
       "      <td>4.630233</td>\n",
       "      <td>1</td>\n",
       "      <td>2018</td>\n",
       "      <td>1</td>\n",
       "    </tr>\n",
       "    <tr>\n",
       "      <th>1</th>\n",
       "      <td>12.234884</td>\n",
       "      <td>12.888372</td>\n",
       "      <td>12.558140</td>\n",
       "      <td>10.288372</td>\n",
       "      <td>2</td>\n",
       "      <td>2018</td>\n",
       "      <td>2</td>\n",
       "    </tr>\n",
       "  </tbody>\n",
       "</table>\n",
       "</div>"
      ],
      "text/plain": [
       "   Product 2  Product 3  Product 4  Product 43  month_num  Year  Month\n",
       "0   0.000000   5.897674   5.811628    4.630233          1  2018      1\n",
       "1  12.234884  12.888372  12.558140   10.288372          2  2018      2"
      ]
     },
     "execution_count": 63,
     "metadata": {},
     "output_type": "execute_result"
    }
   ],
   "source": [
    "# Для начала сделаем столбец с месяцем и столбец с годом.\n",
    "df9['Year'] = df9[\"index\"].dt.year\n",
    "df9['Month'] = df9[\"index\"].dt.month\n",
    "df9.drop('index', axis=1, inplace=True) # удаляем старый столбец с датами\n",
    "df9.head(2)"
   ]
  },
  {
   "cell_type": "code",
   "execution_count": 64,
   "metadata": {},
   "outputs": [],
   "source": [
    "# Теперь разбиваем на 12 месяцев(11 колонок) и 3 года(2 колонки).\n",
    "year = pd.get_dummies(df9['Year'], drop_first=True).copy()\n",
    "month = pd.get_dummies(df9['Month'], drop_first=True).copy()"
   ]
  },
  {
   "cell_type": "code",
   "execution_count": 65,
   "metadata": {},
   "outputs": [],
   "source": [
    "# Удаляем столбцы Year и Month.\n",
    "df9.drop(['Year', 'Month'], inplace=True, axis=1)"
   ]
  },
  {
   "cell_type": "code",
   "execution_count": 66,
   "metadata": {},
   "outputs": [
    {
     "data": {
      "text/html": [
       "<div>\n",
       "<style scoped>\n",
       "    .dataframe tbody tr th:only-of-type {\n",
       "        vertical-align: middle;\n",
       "    }\n",
       "\n",
       "    .dataframe tbody tr th {\n",
       "        vertical-align: top;\n",
       "    }\n",
       "\n",
       "    .dataframe thead th {\n",
       "        text-align: right;\n",
       "    }\n",
       "</style>\n",
       "<table border=\"1\" class=\"dataframe\">\n",
       "  <thead>\n",
       "    <tr style=\"text-align: right;\">\n",
       "      <th></th>\n",
       "      <th>Product 2</th>\n",
       "      <th>Product 3</th>\n",
       "      <th>Product 4</th>\n",
       "      <th>Product 43</th>\n",
       "      <th>month_num</th>\n",
       "      <th>2019</th>\n",
       "      <th>2020</th>\n",
       "      <th>2021</th>\n",
       "      <th>2</th>\n",
       "      <th>3</th>\n",
       "      <th>4</th>\n",
       "      <th>5</th>\n",
       "      <th>6</th>\n",
       "      <th>7</th>\n",
       "      <th>8</th>\n",
       "      <th>9</th>\n",
       "      <th>10</th>\n",
       "      <th>11</th>\n",
       "      <th>12</th>\n",
       "    </tr>\n",
       "  </thead>\n",
       "  <tbody>\n",
       "    <tr>\n",
       "      <th>0</th>\n",
       "      <td>0.000000</td>\n",
       "      <td>5.897674</td>\n",
       "      <td>5.811628</td>\n",
       "      <td>4.630233</td>\n",
       "      <td>1</td>\n",
       "      <td>0</td>\n",
       "      <td>0</td>\n",
       "      <td>0</td>\n",
       "      <td>0</td>\n",
       "      <td>0</td>\n",
       "      <td>0</td>\n",
       "      <td>0</td>\n",
       "      <td>0</td>\n",
       "      <td>0</td>\n",
       "      <td>0</td>\n",
       "      <td>0</td>\n",
       "      <td>0</td>\n",
       "      <td>0</td>\n",
       "      <td>0</td>\n",
       "    </tr>\n",
       "    <tr>\n",
       "      <th>1</th>\n",
       "      <td>12.234884</td>\n",
       "      <td>12.888372</td>\n",
       "      <td>12.558140</td>\n",
       "      <td>10.288372</td>\n",
       "      <td>2</td>\n",
       "      <td>0</td>\n",
       "      <td>0</td>\n",
       "      <td>0</td>\n",
       "      <td>1</td>\n",
       "      <td>0</td>\n",
       "      <td>0</td>\n",
       "      <td>0</td>\n",
       "      <td>0</td>\n",
       "      <td>0</td>\n",
       "      <td>0</td>\n",
       "      <td>0</td>\n",
       "      <td>0</td>\n",
       "      <td>0</td>\n",
       "      <td>0</td>\n",
       "    </tr>\n",
       "  </tbody>\n",
       "</table>\n",
       "</div>"
      ],
      "text/plain": [
       "   Product 2  Product 3  Product 4  Product 43  month_num  2019  2020  2021  \\\n",
       "0   0.000000   5.897674   5.811628    4.630233          1     0     0     0   \n",
       "1  12.234884  12.888372  12.558140   10.288372          2     0     0     0   \n",
       "\n",
       "   2  3  4  5  6  7  8  9  10  11  12  \n",
       "0  0  0  0  0  0  0  0  0   0   0   0  \n",
       "1  1  0  0  0  0  0  0  0   0   0   0  "
      ]
     },
     "execution_count": 66,
     "metadata": {},
     "output_type": "execute_result"
    }
   ],
   "source": [
    "# Объединяем с нашим датафреймом.\n",
    "df9 = pd.concat([df9, year, month], axis=1)\n",
    "df9.head(2)"
   ]
  },
  {
   "cell_type": "code",
   "execution_count": 67,
   "metadata": {},
   "outputs": [],
   "source": [
    "# Создадим объекты матрицу X и векторы yi для обучения моделей.\n",
    "X = df9.iloc[:, 4:]\n",
    "y_p2  = df9['Product 2']\n",
    "y_p3 = df9['Product 3']\n",
    "y_p4 = df9['Product 4']\n",
    "y_p43 = df9['Product 43']\n",
    "\n",
    "# Оставим только те строчки, у которых известны значения y(с номером < 36)\n",
    "X1 = X[X.index < 36]\n",
    "y1_p2 = y_p2[y_p2.index < 36]\n",
    "y1_p3 = y_p3[y_p3.index < 36]\n",
    "y1_p4 = y_p4[y_p4.index < 36]\n",
    "y1_p43 = y_p43[y_p43.index < 36]"
   ]
  },
  {
   "cell_type": "code",
   "execution_count": 68,
   "metadata": {},
   "outputs": [
    {
     "name": "stdout",
     "output_type": "stream",
     "text": [
      "0.8496312404080968\n",
      "0.8718810226888851\n",
      "0.8240334739452313\n",
      "0.8885288897561568\n"
     ]
    }
   ],
   "source": [
    "# Настраиваем линейные регрессионные модели.\n",
    "from sklearn import set_config\n",
    "set_config(print_changed_only=False)\n",
    "\n",
    "from sklearn.linear_model import LinearRegression\n",
    "lr2 = LinearRegression()\n",
    "lr3 = LinearRegression()\n",
    "lr4 = LinearRegression()\n",
    "lr43 = LinearRegression()\n",
    "\n",
    "lr2.fit(X1, y1_p2)\n",
    "lr3.fit(X1, y1_p3)\n",
    "lr4.fit(X1, y1_p4)\n",
    "lr43.fit(X1, y1_p43)\n",
    "\n",
    "pred1_lr2 = lr2.predict(X1)\n",
    "pred1_lr3 = lr3.predict(X1)\n",
    "pred1_lr4 = lr4.predict(X1)\n",
    "pred1_lr43 = lr43.predict(X1)\n",
    "\n",
    "print(lr2.score(X1, y1_p2))\n",
    "print(lr3.score(X1, y1_p3))\n",
    "print(lr4.score(X1, y1_p4))\n",
    "print(lr43.score(X1, y1_p43))"
   ]
  },
  {
   "cell_type": "code",
   "execution_count": 69,
   "metadata": {},
   "outputs": [
    {
     "data": {
      "text/plain": [
       "Text(0.5, 1.0, 'Реальные данные и обученные LinearRegression для товара №43')"
      ]
     },
     "execution_count": 69,
     "metadata": {},
     "output_type": "execute_result"
    },
    {
     "data": {
      "image/png": "[encoded data removed]",
      "text/plain": [
       "<Figure size 864x360 with 1 Axes>"
      ]
     },
     "metadata": {
      "needs_background": "light"
     },
     "output_type": "display_data"
    },
    {
     "data": {
      "image/png": "[encoded data removed]",
      "text/plain": [
       "<Figure size 864x360 with 1 Axes>"
      ]
     },
     "metadata": {
      "needs_background": "light"
     },
     "output_type": "display_data"
    },
    {
     "data": {
      "image/png": "[encoded data removed]",
      "text/plain": [
       "<Figure size 864x360 with 1 Axes>"
      ]
     },
     "metadata": {
      "needs_background": "light"
     },
     "output_type": "display_data"
    },
    {
     "data": {
      "image/png": "[encoded data removed]",
      "text/plain": [
       "<Figure size 864x360 with 1 Axes>"
      ]
     },
     "metadata": {
      "needs_background": "light"
     },
     "output_type": "display_data"
    }
   ],
   "source": [
    "# Визуализируем\n",
    "pd.DataFrame({'pred': pred1_lr2, 'real': y1_p2}).plot(color=('red', 'pink'), figsize=(12, 5))\n",
    "plt.xlabel(\"Индекс месяца\");\n",
    "plt.ylabel(\"Продажи\");\n",
    "plt.title(\"Реальные данные и обученные LinearRegression для товара №2\")\n",
    "\n",
    "pd.DataFrame({'pred': pred1_lr3, 'real': y1_p3}).plot(color=('red', 'pink'), figsize=(12, 5))\n",
    "plt.xlabel(\"Индекс месяца\");\n",
    "plt.ylabel(\"Продажи\");\n",
    "plt.title(\"Реальные данные и обученные LinearRegression для товара №3\")\n",
    "\n",
    "pd.DataFrame({'pred': pred1_lr4, 'real': y1_p4}).plot(color=('red', 'pink'), figsize=(12, 5))\n",
    "plt.xlabel(\"Индекс месяца\");\n",
    "plt.ylabel(\"Продажи\");\n",
    "plt.title(\"Реальные данные и обученные LinearRegression для товара №4\")\n",
    "\n",
    "pd.DataFrame({'pred': pred1_lr43, 'real': y1_p43}).plot(color=('red', 'pink'), figsize=(12, 5))\n",
    "plt.xlabel(\"Индекс месяца\");\n",
    "plt.ylabel(\"Продажи\");\n",
    "plt.title(\"Реальные данные и обученные LinearRegression для товара №43\")"
   ]
  },
  {
   "cell_type": "code",
   "execution_count": 70,
   "metadata": {},
   "outputs": [
    {
     "name": "stdout",
     "output_type": "stream",
     "text": [
      "0.9640303473645061\n",
      "0.972942763808627\n",
      "0.9563449342378354\n",
      "0.9700440496663155\n"
     ]
    }
   ],
   "source": [
    "# Попробуем RandomForestRegressor.\n",
    "from sklearn.ensemble import RandomForestRegressor\n",
    "rfr2 = RandomForestRegressor()\n",
    "rfr3 = RandomForestRegressor()\n",
    "rfr4 = RandomForestRegressor()\n",
    "rfr43 = RandomForestRegressor()\n",
    "\n",
    "rfr2.fit(X1, y1_p2)\n",
    "rfr3.fit(X1, y1_p3)\n",
    "rfr4.fit(X1, y1_p4)\n",
    "rfr43.fit(X1, y1_p43)\n",
    "\n",
    "pred1_rfr2 = rfr2.predict(X1)\n",
    "pred1_rfr3 = rfr3.predict(X1)\n",
    "pred1_rfr4 = rfr4.predict(X1)\n",
    "pred1_rfr43 = rfr43.predict(X1)\n",
    "\n",
    "print(rfr2.score(X1, y1_p2))\n",
    "print(rfr3.score(X1, y1_p3))\n",
    "print(rfr4.score(X1, y1_p4))\n",
    "print(rfr43.score(X1, y1_p43))"
   ]
  },
  {
   "cell_type": "code",
   "execution_count": 71,
   "metadata": {
    "scrolled": true
   },
   "outputs": [
    {
     "data": {
      "text/plain": [
       "Text(0.5, 1.0, 'Реальные данные и обученные RandomForestRegressor для товара №43')"
      ]
     },
     "execution_count": 71,
     "metadata": {},
     "output_type": "execute_result"
    },
    {
     "data": {
      "image/png": "[encoded data removed]",
      "text/plain": [
       "<Figure size 864x360 with 1 Axes>"
      ]
     },
     "metadata": {
      "needs_background": "light"
     },
     "output_type": "display_data"
    },
    {
     "data": {
      "image/png": "[encoded data removed]",
      "text/plain": [
       "<Figure size 864x360 with 1 Axes>"
      ]
     },
     "metadata": {
      "needs_background": "light"
     },
     "output_type": "display_data"
    },
    {
     "data": {
      "image/png": "[encoded data removed]",
      "text/plain": [
       "<Figure size 864x360 with 1 Axes>"
      ]
     },
     "metadata": {
      "needs_background": "light"
     },
     "output_type": "display_data"
    },
    {
     "data": {
      "image/png": "[encoded data removed]",
      "text/plain": [
       "<Figure size 864x360 with 1 Axes>"
      ]
     },
     "metadata": {
      "needs_background": "light"
     },
     "output_type": "display_data"
    }
   ],
   "source": [
    "# Визуализируем RandomForestRegressor.\n",
    "pd.DataFrame({'pred': pred1_rfr2, 'real': y1_p2}).plot(color=('magenta', 'pink'), figsize=(12, 5))\n",
    "plt.xlabel(\"Индекс месяца\");\n",
    "plt.ylabel(\"Продажи\");\n",
    "plt.title(\"Реальные данные и обученные RandomForestRegressor для товара №2\")\n",
    "\n",
    "pd.DataFrame({'pred': pred1_rfr3, 'real': y1_p3}).plot(color=('magenta', 'pink'), figsize=(12, 5))\n",
    "plt.xlabel(\"Индекс месяца\");\n",
    "plt.ylabel(\"Продажи\");\n",
    "plt.title(\"Реальные данные и обученные RandomForestRegressor для товара №3\")\n",
    "\n",
    "pd.DataFrame({'pred': pred1_rfr4, 'real': y1_p4}).plot(color=('magenta', 'pink'), figsize=(12, 5))\n",
    "plt.xlabel(\"Индекс месяца\");\n",
    "plt.ylabel(\"Продажи\");\n",
    "plt.title(\"Реальные данные и обученные RandomForestRegressor для товара №4\")\n",
    "\n",
    "pd.DataFrame({'pred': pred1_rfr43, 'real': y1_p43}).plot(color=('magenta', 'pink'), figsize=(12, 5))\n",
    "plt.xlabel(\"Индекс месяца\");\n",
    "plt.ylabel(\"Продажи\");\n",
    "plt.title(\"Реальные данные и обученные RandomForestRegressor для товара №43\")"
   ]
  },
  {
   "cell_type": "code",
   "execution_count": 72,
   "metadata": {},
   "outputs": [],
   "source": [
    "# Теперь построим предсказание на будущий год, т.е. для всей матрицы X, включая неизвестные 12 месяцев.\n",
    "# Линейная регрессия\n",
    "pred_lr2 = lr2.predict(X)\n",
    "pred_lr3 = lr3.predict(X)\n",
    "pred_lr4 = lr4.predict(X)\n",
    "pred_lr43 = lr43.predict(X)\n",
    "\n",
    "# Случайный лес\n",
    "pred_rfr2 = rfr2.predict(X)\n",
    "pred_rfr3 = rfr3.predict(X)\n",
    "pred_rfr4 = rfr4.predict(X)\n",
    "pred_rfr43 = rfr43.predict(X)"
   ]
  },
  {
   "cell_type": "code",
   "execution_count": 73,
   "metadata": {},
   "outputs": [
    {
     "data": {
      "text/plain": [
       "Text(0.5, 1.0, 'Прогноз RandomForestRegressor для товара №2')"
      ]
     },
     "execution_count": 73,
     "metadata": {},
     "output_type": "execute_result"
    },
    {
     "data": {
      "image/png": "[encoded data removed]",
      "text/plain": [
       "<Figure size 864x360 with 1 Axes>"
      ]
     },
     "metadata": {
      "needs_background": "light"
     },
     "output_type": "display_data"
    },
    {
     "data": {
      "image/png": "[encoded data removed]",
      "text/plain": [
       "<Figure size 864x360 with 1 Axes>"
      ]
     },
     "metadata": {
      "needs_background": "light"
     },
     "output_type": "display_data"
    }
   ],
   "source": [
    "# Для наглядности строить прогноз будем попарно для каждого продукта.\n",
    "pd.DataFrame({'pred': pred_lr2, 'real': y_p2}).plot(color=('red', 'pink'), figsize=(12, 5))\n",
    "plt.xlabel(\"Индекс месяца\");\n",
    "plt.ylabel(\"Продажи\");\n",
    "plt.title(\"Прогноз LinearRegression для товара №2\")\n",
    "\n",
    "pd.DataFrame({'pred': pred_rfr2, 'real': y_p2}).plot(color=('magenta', 'pink'), figsize=(12, 5))\n",
    "plt.xlabel(\"Индекс месяца\");\n",
    "plt.ylabel(\"Продажи\");\n",
    "plt.title(\"Прогноз RandomForestRegressor для товара №2\")"
   ]
  },
  {
   "cell_type": "code",
   "execution_count": 74,
   "metadata": {},
   "outputs": [
    {
     "data": {
      "text/plain": [
       "Text(0.5, 1.0, 'Прогноз RandomForestRegressor для товара №3')"
      ]
     },
     "execution_count": 74,
     "metadata": {},
     "output_type": "execute_result"
    },
    {
     "data": {
      "image/png": "[encoded data removed]",
      "text/plain": [
       "<Figure size 864x360 with 1 Axes>"
      ]
     },
     "metadata": {
      "needs_background": "light"
     },
     "output_type": "display_data"
    },
    {
     "data": {
      "image/png": "[encoded data removed]",
      "text/plain": [
       "<Figure size 864x360 with 1 Axes>"
      ]
     },
     "metadata": {
      "needs_background": "light"
     },
     "output_type": "display_data"
    }
   ],
   "source": [
    "pd.DataFrame({'pred': pred_lr3, 'real': y_p3}).plot(color=('red', 'pink'), figsize=(12, 5))\n",
    "plt.xlabel(\"Индекс месяца\");\n",
    "plt.ylabel(\"Продажи\");\n",
    "plt.title(\"Прогноз LinearRegression для товара №3\")\n",
    "\n",
    "pd.DataFrame({'pred': pred_rfr3, 'real': y_p3}).plot(color=('magenta', 'pink'), figsize=(12, 5))\n",
    "plt.xlabel(\"Индекс месяца\");\n",
    "plt.ylabel(\"Продажи\");\n",
    "plt.title(\"Прогноз RandomForestRegressor для товара №3\")"
   ]
  },
  {
   "cell_type": "code",
   "execution_count": 75,
   "metadata": {},
   "outputs": [
    {
     "data": {
      "text/plain": [
       "Text(0.5, 1.0, 'Прогноз RandomForestRegressor для товара №4')"
      ]
     },
     "execution_count": 75,
     "metadata": {},
     "output_type": "execute_result"
    },
    {
     "data": {
      "image/png": "[encoded data removed]",
      "text/plain": [
       "<Figure size 864x360 with 1 Axes>"
      ]
     },
     "metadata": {
      "needs_background": "light"
     },
     "output_type": "display_data"
    },
    {
     "data": {
      "image/png": "[encoded data removed]",
      "text/plain": [
       "<Figure size 864x360 with 1 Axes>"
      ]
     },
     "metadata": {
      "needs_background": "light"
     },
     "output_type": "display_data"
    }
   ],
   "source": [
    "pd.DataFrame({'pred': pred_lr4, 'real': y_p4}).plot(color=('red', 'pink'), figsize=(12, 5))\n",
    "plt.xlabel(\"Индекс месяца\");\n",
    "plt.ylabel(\"Продажи\");\n",
    "plt.title(\"Прогноз LinearRegression для товара №4\")\n",
    "\n",
    "pd.DataFrame({'pred': pred_rfr4, 'real': y_p4}).plot(color=('magenta', 'pink'), figsize=(12, 5))\n",
    "plt.xlabel(\"Индекс месяца\");\n",
    "plt.ylabel(\"Продажи\");\n",
    "plt.title(\"Прогноз RandomForestRegressor для товара №4\")"
   ]
  },
  {
   "cell_type": "code",
   "execution_count": 76,
   "metadata": {},
   "outputs": [
    {
     "data": {
      "text/plain": [
       "Text(0.5, 1.0, 'Прогноз RandomForestRegressor для товара №43')"
      ]
     },
     "execution_count": 76,
     "metadata": {},
     "output_type": "execute_result"
    },
    {
     "data": {
      "image/png": "[encoded data removed]",
      "text/plain": [
       "<Figure size 864x360 with 1 Axes>"
      ]
     },
     "metadata": {
      "needs_background": "light"
     },
     "output_type": "display_data"
    },
    {
     "data": {
      "image/png": "[encoded data removed]",
      "text/plain": [
       "<Figure size 864x360 with 1 Axes>"
      ]
     },
     "metadata": {
      "needs_background": "light"
     },
     "output_type": "display_data"
    }
   ],
   "source": [
    "pd.DataFrame({'pred': pred_lr43, 'real': y_p43}).plot(color=('red', 'pink'), figsize=(12, 5))\n",
    "plt.xlabel(\"Индекс месяца\");\n",
    "plt.ylabel(\"Продажи\");\n",
    "plt.title(\"Прогноз LinearRegression для товара №43\")\n",
    "\n",
    "pd.DataFrame({'pred': pred_rfr43, 'real': y_p43}).plot(color=('magenta', 'pink'), figsize=(12, 5))\n",
    "plt.xlabel(\"Индекс месяца\");\n",
    "plt.ylabel(\"Продажи\");\n",
    "plt.title(\"Прогноз RandomForestRegressor для товара №43\")"
   ]
  },
  {
   "cell_type": "markdown",
   "metadata": {},
   "source": [
    "Модель RandomForestRegressor имеет более высокую оценку точности на тренировочных данных, потому будем использовать для прогноза её."
   ]
  },
  {
   "cell_type": "code",
   "execution_count": 77,
   "metadata": {},
   "outputs": [
    {
     "name": "stderr",
     "output_type": "stream",
     "text": [
      "<ipython-input-77-262e025ade0c>:3: SettingWithCopyWarning: \n",
      "A value is trying to be set on a copy of a slice from a DataFrame.\n",
      "Try using .loc[row_indexer,col_indexer] = value instead\n",
      "\n",
      "See the caveats in the documentation: https://pandas.pydata.org/pandas-docs/stable/user_guide/indexing.html#returning-a-view-versus-a-copy\n",
      "  df_final['Product 2'] = pred_rfr2[-12:]\n",
      "<ipython-input-77-262e025ade0c>:4: SettingWithCopyWarning: \n",
      "A value is trying to be set on a copy of a slice from a DataFrame.\n",
      "Try using .loc[row_indexer,col_indexer] = value instead\n",
      "\n",
      "See the caveats in the documentation: https://pandas.pydata.org/pandas-docs/stable/user_guide/indexing.html#returning-a-view-versus-a-copy\n",
      "  df_final['Product 3'] = pred_rfr3[-12:]\n",
      "<ipython-input-77-262e025ade0c>:5: SettingWithCopyWarning: \n",
      "A value is trying to be set on a copy of a slice from a DataFrame.\n",
      "Try using .loc[row_indexer,col_indexer] = value instead\n",
      "\n",
      "See the caveats in the documentation: https://pandas.pydata.org/pandas-docs/stable/user_guide/indexing.html#returning-a-view-versus-a-copy\n",
      "  df_final['Product 4'] = pred_rfr4[-12:]\n",
      "<ipython-input-77-262e025ade0c>:6: SettingWithCopyWarning: \n",
      "A value is trying to be set on a copy of a slice from a DataFrame.\n",
      "Try using .loc[row_indexer,col_indexer] = value instead\n",
      "\n",
      "See the caveats in the documentation: https://pandas.pydata.org/pandas-docs/stable/user_guide/indexing.html#returning-a-view-versus-a-copy\n",
      "  df_final['Product 43'] = pred_rfr43[-12:]\n"
     ]
    }
   ],
   "source": [
    "# Создадим новый датафрейм с прогнозом на 2021 год по 4 продуктам.\n",
    "df_final = df7[df7.index > 35]\n",
    "df_final['Product 2'] = pred_rfr2[-12:]\n",
    "df_final['Product 3'] = pred_rfr3[-12:]\n",
    "df_final['Product 4'] = pred_rfr4[-12:]\n",
    "df_final['Product 43'] = pred_rfr43[-12:]"
   ]
  },
  {
   "cell_type": "code",
   "execution_count": 78,
   "metadata": {},
   "outputs": [
    {
     "data": {
      "text/html": [
       "<div>\n",
       "<style scoped>\n",
       "    .dataframe tbody tr th:only-of-type {\n",
       "        vertical-align: middle;\n",
       "    }\n",
       "\n",
       "    .dataframe tbody tr th {\n",
       "        vertical-align: top;\n",
       "    }\n",
       "\n",
       "    .dataframe thead th {\n",
       "        text-align: right;\n",
       "    }\n",
       "</style>\n",
       "<table border=\"1\" class=\"dataframe\">\n",
       "  <thead>\n",
       "    <tr style=\"text-align: right;\">\n",
       "      <th></th>\n",
       "      <th>index</th>\n",
       "      <th>Product 2</th>\n",
       "      <th>Product 3</th>\n",
       "      <th>Product 4</th>\n",
       "      <th>Product 43</th>\n",
       "    </tr>\n",
       "  </thead>\n",
       "  <tbody>\n",
       "    <tr>\n",
       "      <th>36</th>\n",
       "      <td>2021-01-01</td>\n",
       "      <td>324.060047</td>\n",
       "      <td>369.654000</td>\n",
       "      <td>351.767372</td>\n",
       "      <td>195.465581</td>\n",
       "    </tr>\n",
       "    <tr>\n",
       "      <th>37</th>\n",
       "      <td>2021-02-01</td>\n",
       "      <td>344.983372</td>\n",
       "      <td>383.999302</td>\n",
       "      <td>381.200302</td>\n",
       "      <td>194.942326</td>\n",
       "    </tr>\n",
       "    <tr>\n",
       "      <th>38</th>\n",
       "      <td>2021-03-01</td>\n",
       "      <td>346.699860</td>\n",
       "      <td>475.053442</td>\n",
       "      <td>412.257279</td>\n",
       "      <td>198.993302</td>\n",
       "    </tr>\n",
       "    <tr>\n",
       "      <th>39</th>\n",
       "      <td>2021-04-01</td>\n",
       "      <td>362.255326</td>\n",
       "      <td>480.877837</td>\n",
       "      <td>434.322651</td>\n",
       "      <td>251.457419</td>\n",
       "    </tr>\n",
       "    <tr>\n",
       "      <th>40</th>\n",
       "      <td>2021-05-01</td>\n",
       "      <td>326.319628</td>\n",
       "      <td>360.043419</td>\n",
       "      <td>348.524349</td>\n",
       "      <td>195.889907</td>\n",
       "    </tr>\n",
       "    <tr>\n",
       "      <th>41</th>\n",
       "      <td>2021-06-01</td>\n",
       "      <td>308.453535</td>\n",
       "      <td>370.280349</td>\n",
       "      <td>340.300000</td>\n",
       "      <td>196.512000</td>\n",
       "    </tr>\n",
       "    <tr>\n",
       "      <th>42</th>\n",
       "      <td>2021-07-01</td>\n",
       "      <td>288.266791</td>\n",
       "      <td>358.900488</td>\n",
       "      <td>327.248535</td>\n",
       "      <td>200.391093</td>\n",
       "    </tr>\n",
       "    <tr>\n",
       "      <th>43</th>\n",
       "      <td>2021-08-01</td>\n",
       "      <td>310.995512</td>\n",
       "      <td>366.156488</td>\n",
       "      <td>350.826093</td>\n",
       "      <td>195.154814</td>\n",
       "    </tr>\n",
       "    <tr>\n",
       "      <th>44</th>\n",
       "      <td>2021-09-01</td>\n",
       "      <td>343.433163</td>\n",
       "      <td>400.214791</td>\n",
       "      <td>374.100256</td>\n",
       "      <td>224.896372</td>\n",
       "    </tr>\n",
       "    <tr>\n",
       "      <th>45</th>\n",
       "      <td>2021-10-01</td>\n",
       "      <td>375.392628</td>\n",
       "      <td>385.461302</td>\n",
       "      <td>434.199070</td>\n",
       "      <td>175.078860</td>\n",
       "    </tr>\n",
       "    <tr>\n",
       "      <th>46</th>\n",
       "      <td>2021-11-01</td>\n",
       "      <td>322.799209</td>\n",
       "      <td>369.484884</td>\n",
       "      <td>358.015372</td>\n",
       "      <td>193.579581</td>\n",
       "    </tr>\n",
       "    <tr>\n",
       "      <th>47</th>\n",
       "      <td>2021-12-01</td>\n",
       "      <td>264.806279</td>\n",
       "      <td>298.597651</td>\n",
       "      <td>304.791860</td>\n",
       "      <td>195.368651</td>\n",
       "    </tr>\n",
       "  </tbody>\n",
       "</table>\n",
       "</div>"
      ],
      "text/plain": [
       "        index   Product 2   Product 3   Product 4  Product 43\n",
       "36 2021-01-01  324.060047  369.654000  351.767372  195.465581\n",
       "37 2021-02-01  344.983372  383.999302  381.200302  194.942326\n",
       "38 2021-03-01  346.699860  475.053442  412.257279  198.993302\n",
       "39 2021-04-01  362.255326  480.877837  434.322651  251.457419\n",
       "40 2021-05-01  326.319628  360.043419  348.524349  195.889907\n",
       "41 2021-06-01  308.453535  370.280349  340.300000  196.512000\n",
       "42 2021-07-01  288.266791  358.900488  327.248535  200.391093\n",
       "43 2021-08-01  310.995512  366.156488  350.826093  195.154814\n",
       "44 2021-09-01  343.433163  400.214791  374.100256  224.896372\n",
       "45 2021-10-01  375.392628  385.461302  434.199070  175.078860\n",
       "46 2021-11-01  322.799209  369.484884  358.015372  193.579581\n",
       "47 2021-12-01  264.806279  298.597651  304.791860  195.368651"
      ]
     },
     "execution_count": 78,
     "metadata": {},
     "output_type": "execute_result"
    }
   ],
   "source": [
    "df_final"
   ]
  },
  {
   "cell_type": "markdown",
   "metadata": {},
   "source": [
    "По данному прогнозу можем определиться с количеством закупок данных товаров на 2021 год."
   ]
  },
  {
   "cell_type": "code",
   "execution_count": 79,
   "metadata": {},
   "outputs": [],
   "source": [
    "# Так-то реальные данные за январь у нас есть (возможно не полные), проверим себя.\n",
    "\n",
    "dff = pd.read_excel('practice.xlsx')\n",
    "dff['Period'] = pd.to_datetime(dff['Period'])\n",
    "dff.drop(dff[dff['Qty'] == 0].index, inplace=True, axis=0)"
   ]
  },
  {
   "cell_type": "code",
   "execution_count": 80,
   "metadata": {},
   "outputs": [],
   "source": [
    "dff = dff[(dff['Period'] > '2020-01-01') & (dff['Period'] < '2020-02-01')]"
   ]
  },
  {
   "cell_type": "code",
   "execution_count": 81,
   "metadata": {},
   "outputs": [],
   "source": [
    "dff['Period'] = pd.to_datetime(dff['Period']).dt.strftime('%Y-%m')\n",
    "dff['Period'] = pd.to_datetime(dff['Period'])"
   ]
  },
  {
   "cell_type": "code",
   "execution_count": 82,
   "metadata": {},
   "outputs": [],
   "source": [
    "dff = dff.groupby(['Product', 'Period'])['Sales'].sum().reset_index()"
   ]
  },
  {
   "cell_type": "code",
   "execution_count": 83,
   "metadata": {},
   "outputs": [
    {
     "data": {
      "text/html": [
       "<div>\n",
       "<style scoped>\n",
       "    .dataframe tbody tr th:only-of-type {\n",
       "        vertical-align: middle;\n",
       "    }\n",
       "\n",
       "    .dataframe tbody tr th {\n",
       "        vertical-align: top;\n",
       "    }\n",
       "\n",
       "    .dataframe thead th {\n",
       "        text-align: right;\n",
       "    }\n",
       "</style>\n",
       "<table border=\"1\" class=\"dataframe\">\n",
       "  <thead>\n",
       "    <tr style=\"text-align: right;\">\n",
       "      <th></th>\n",
       "      <th>Product</th>\n",
       "      <th>Period</th>\n",
       "      <th>Sales</th>\n",
       "    </tr>\n",
       "  </thead>\n",
       "  <tbody>\n",
       "    <tr>\n",
       "      <th>38</th>\n",
       "      <td>Product 2</td>\n",
       "      <td>2020-01-01</td>\n",
       "      <td>200.688372</td>\n",
       "    </tr>\n",
       "    <tr>\n",
       "      <th>66</th>\n",
       "      <td>Product 3</td>\n",
       "      <td>2020-01-01</td>\n",
       "      <td>216.395349</td>\n",
       "    </tr>\n",
       "    <tr>\n",
       "      <th>88</th>\n",
       "      <td>Product 4</td>\n",
       "      <td>2020-01-01</td>\n",
       "      <td>215.574419</td>\n",
       "    </tr>\n",
       "    <tr>\n",
       "      <th>94</th>\n",
       "      <td>Product 43</td>\n",
       "      <td>2020-01-01</td>\n",
       "      <td>83.448837</td>\n",
       "    </tr>\n",
       "  </tbody>\n",
       "</table>\n",
       "</div>"
      ],
      "text/plain": [
       "       Product     Period       Sales\n",
       "38   Product 2 2020-01-01  200.688372\n",
       "66   Product 3 2020-01-01  216.395349\n",
       "88   Product 4 2020-01-01  215.574419\n",
       "94  Product 43 2020-01-01   83.448837"
      ]
     },
     "execution_count": 83,
     "metadata": {},
     "output_type": "execute_result"
    }
   ],
   "source": [
    "real_jan = dff[(dff['Product'] == 'Product 2') | (dff['Product'] == 'Product 3') |\n",
    "(dff['Product'] == 'Product 4') | (dff['Product'] == 'Product 43')]\n",
    "real_jan"
   ]
  },
  {
   "cell_type": "markdown",
   "metadata": {},
   "source": [
    "Видимо данные все таки неполные, т.к. прогноз от реальных данных отличается на 100 по каждому продукту."
   ]
  },
  {
   "cell_type": "markdown",
   "metadata": {},
   "source": [
    "### Ассоциативные связи"
   ]
  },
  {
   "cell_type": "code",
   "execution_count": 84,
   "metadata": {},
   "outputs": [],
   "source": [
    "from apyori import apriori"
   ]
  },
  {
   "cell_type": "code",
   "execution_count": 85,
   "metadata": {},
   "outputs": [],
   "source": [
    "data = pd.read_excel('practice.xlsx')\n",
    "data['Period'] = pd.to_datetime(data['Period'])\n",
    "data.drop(data[data['Qty'] == 0].index, inplace=True, axis=0) #  или оставить???"
   ]
  },
  {
   "cell_type": "code",
   "execution_count": 86,
   "metadata": {},
   "outputs": [
    {
     "name": "stdout",
     "output_type": "stream",
     "text": [
      "355\n",
      "889\n",
      "9835\n"
     ]
    }
   ],
   "source": [
    "# Количество товаров.\n",
    "print(len(data['Product'].unique()))\n",
    "\n",
    "# Количество клиентов.\n",
    "print(len(data['Client'].unique()))\n",
    "\n",
    "# Количество чеков.\n",
    "print(len(data['Order'].unique()))"
   ]
  },
  {
   "cell_type": "code",
   "execution_count": 87,
   "metadata": {},
   "outputs": [
    {
     "name": "stdout",
     "output_type": "stream",
     "text": [
      "(27973, 6)\n"
     ]
    },
    {
     "data": {
      "text/plain": [
       "9835"
      ]
     },
     "execution_count": 87,
     "metadata": {},
     "output_type": "execute_result"
    }
   ],
   "source": [
    "# Посчитаем количество чеков.\n",
    "print(data.shape)\n",
    "len(data['Order'].unique()) "
   ]
  },
  {
   "cell_type": "code",
   "execution_count": 88,
   "metadata": {},
   "outputs": [
    {
     "data": {
      "text/plain": [
       "355"
      ]
     },
     "execution_count": 88,
     "metadata": {},
     "output_type": "execute_result"
    }
   ],
   "source": [
    "# Посмотрим, сколько всего есть товаров.\n",
    "qty = len(data['Product'].unique())\n",
    "qty"
   ]
  },
  {
   "cell_type": "code",
   "execution_count": 89,
   "metadata": {},
   "outputs": [
    {
     "data": {
      "text/html": [
       "<div>\n",
       "<style scoped>\n",
       "    .dataframe tbody tr th:only-of-type {\n",
       "        vertical-align: middle;\n",
       "    }\n",
       "\n",
       "    .dataframe tbody tr th {\n",
       "        vertical-align: top;\n",
       "    }\n",
       "\n",
       "    .dataframe thead th {\n",
       "        text-align: right;\n",
       "    }\n",
       "</style>\n",
       "<table border=\"1\" class=\"dataframe\">\n",
       "  <thead>\n",
       "    <tr style=\"text-align: right;\">\n",
       "      <th>Product</th>\n",
       "      <th>Product 1</th>\n",
       "      <th>Product 10</th>\n",
       "      <th>Product 10031</th>\n",
       "      <th>Product 101</th>\n",
       "      <th>Product 10281</th>\n",
       "      <th>Product 104</th>\n",
       "      <th>Product 10457</th>\n",
       "      <th>Product 1084</th>\n",
       "      <th>Product 1097</th>\n",
       "      <th>Product 1098</th>\n",
       "      <th>...</th>\n",
       "      <th>Product 8328</th>\n",
       "      <th>Product 8494</th>\n",
       "      <th>Product 8640</th>\n",
       "      <th>Product 879</th>\n",
       "      <th>Product 9</th>\n",
       "      <th>Product 910</th>\n",
       "      <th>Product 944</th>\n",
       "      <th>Product 954</th>\n",
       "      <th>Product 9681</th>\n",
       "      <th>Product 9760</th>\n",
       "    </tr>\n",
       "    <tr>\n",
       "      <th>Order</th>\n",
       "      <th></th>\n",
       "      <th></th>\n",
       "      <th></th>\n",
       "      <th></th>\n",
       "      <th></th>\n",
       "      <th></th>\n",
       "      <th></th>\n",
       "      <th></th>\n",
       "      <th></th>\n",
       "      <th></th>\n",
       "      <th></th>\n",
       "      <th></th>\n",
       "      <th></th>\n",
       "      <th></th>\n",
       "      <th></th>\n",
       "      <th></th>\n",
       "      <th></th>\n",
       "      <th></th>\n",
       "      <th></th>\n",
       "      <th></th>\n",
       "      <th></th>\n",
       "    </tr>\n",
       "  </thead>\n",
       "  <tbody>\n",
       "    <tr>\n",
       "      <th>8</th>\n",
       "      <td>0.0</td>\n",
       "      <td>0.0</td>\n",
       "      <td>0.0</td>\n",
       "      <td>0.0</td>\n",
       "      <td>0.0</td>\n",
       "      <td>0.0</td>\n",
       "      <td>0.0</td>\n",
       "      <td>0.0</td>\n",
       "      <td>0.0</td>\n",
       "      <td>0.0</td>\n",
       "      <td>...</td>\n",
       "      <td>0.0</td>\n",
       "      <td>0.0</td>\n",
       "      <td>0.0</td>\n",
       "      <td>0.0</td>\n",
       "      <td>0.0</td>\n",
       "      <td>0.0</td>\n",
       "      <td>0.0</td>\n",
       "      <td>0.0</td>\n",
       "      <td>0.0</td>\n",
       "      <td>0.0</td>\n",
       "    </tr>\n",
       "    <tr>\n",
       "      <th>12</th>\n",
       "      <td>0.0</td>\n",
       "      <td>0.0</td>\n",
       "      <td>0.0</td>\n",
       "      <td>0.0</td>\n",
       "      <td>0.0</td>\n",
       "      <td>0.0</td>\n",
       "      <td>0.0</td>\n",
       "      <td>0.0</td>\n",
       "      <td>0.0</td>\n",
       "      <td>0.0</td>\n",
       "      <td>...</td>\n",
       "      <td>0.0</td>\n",
       "      <td>0.0</td>\n",
       "      <td>0.0</td>\n",
       "      <td>0.0</td>\n",
       "      <td>0.0</td>\n",
       "      <td>0.0</td>\n",
       "      <td>0.0</td>\n",
       "      <td>0.0</td>\n",
       "      <td>0.0</td>\n",
       "      <td>0.0</td>\n",
       "    </tr>\n",
       "    <tr>\n",
       "      <th>14</th>\n",
       "      <td>0.0</td>\n",
       "      <td>0.0</td>\n",
       "      <td>0.0</td>\n",
       "      <td>0.0</td>\n",
       "      <td>0.0</td>\n",
       "      <td>0.0</td>\n",
       "      <td>0.0</td>\n",
       "      <td>0.0</td>\n",
       "      <td>0.0</td>\n",
       "      <td>0.0</td>\n",
       "      <td>...</td>\n",
       "      <td>0.0</td>\n",
       "      <td>0.0</td>\n",
       "      <td>0.0</td>\n",
       "      <td>0.0</td>\n",
       "      <td>0.0</td>\n",
       "      <td>0.0</td>\n",
       "      <td>0.0</td>\n",
       "      <td>0.0</td>\n",
       "      <td>0.0</td>\n",
       "      <td>0.0</td>\n",
       "    </tr>\n",
       "    <tr>\n",
       "      <th>15</th>\n",
       "      <td>0.0</td>\n",
       "      <td>0.0</td>\n",
       "      <td>0.0</td>\n",
       "      <td>0.0</td>\n",
       "      <td>0.0</td>\n",
       "      <td>0.0</td>\n",
       "      <td>0.0</td>\n",
       "      <td>0.0</td>\n",
       "      <td>0.0</td>\n",
       "      <td>0.0</td>\n",
       "      <td>...</td>\n",
       "      <td>0.0</td>\n",
       "      <td>0.0</td>\n",
       "      <td>0.0</td>\n",
       "      <td>0.0</td>\n",
       "      <td>0.0</td>\n",
       "      <td>0.0</td>\n",
       "      <td>0.0</td>\n",
       "      <td>0.0</td>\n",
       "      <td>0.0</td>\n",
       "      <td>0.0</td>\n",
       "    </tr>\n",
       "    <tr>\n",
       "      <th>18</th>\n",
       "      <td>0.0</td>\n",
       "      <td>0.0</td>\n",
       "      <td>0.0</td>\n",
       "      <td>0.0</td>\n",
       "      <td>0.0</td>\n",
       "      <td>0.0</td>\n",
       "      <td>0.0</td>\n",
       "      <td>0.0</td>\n",
       "      <td>0.0</td>\n",
       "      <td>0.0</td>\n",
       "      <td>...</td>\n",
       "      <td>0.0</td>\n",
       "      <td>0.0</td>\n",
       "      <td>0.0</td>\n",
       "      <td>0.0</td>\n",
       "      <td>0.0</td>\n",
       "      <td>0.0</td>\n",
       "      <td>0.0</td>\n",
       "      <td>0.0</td>\n",
       "      <td>0.0</td>\n",
       "      <td>0.0</td>\n",
       "    </tr>\n",
       "  </tbody>\n",
       "</table>\n",
       "<p>5 rows × 355 columns</p>\n",
       "</div>"
      ],
      "text/plain": [
       "Product  Product 1  Product 10  Product 10031  Product 101  Product 10281  \\\n",
       "Order                                                                       \n",
       "8              0.0         0.0            0.0          0.0            0.0   \n",
       "12             0.0         0.0            0.0          0.0            0.0   \n",
       "14             0.0         0.0            0.0          0.0            0.0   \n",
       "15             0.0         0.0            0.0          0.0            0.0   \n",
       "18             0.0         0.0            0.0          0.0            0.0   \n",
       "\n",
       "Product  Product 104  Product 10457  Product 1084  Product 1097  Product 1098  \\\n",
       "Order                                                                           \n",
       "8                0.0            0.0           0.0           0.0           0.0   \n",
       "12               0.0            0.0           0.0           0.0           0.0   \n",
       "14               0.0            0.0           0.0           0.0           0.0   \n",
       "15               0.0            0.0           0.0           0.0           0.0   \n",
       "18               0.0            0.0           0.0           0.0           0.0   \n",
       "\n",
       "Product  ...  Product 8328  Product 8494  Product 8640  Product 879  \\\n",
       "Order    ...                                                          \n",
       "8        ...           0.0           0.0           0.0          0.0   \n",
       "12       ...           0.0           0.0           0.0          0.0   \n",
       "14       ...           0.0           0.0           0.0          0.0   \n",
       "15       ...           0.0           0.0           0.0          0.0   \n",
       "18       ...           0.0           0.0           0.0          0.0   \n",
       "\n",
       "Product  Product 9  Product 910  Product 944  Product 954  Product 9681  \\\n",
       "Order                                                                     \n",
       "8              0.0          0.0          0.0          0.0           0.0   \n",
       "12             0.0          0.0          0.0          0.0           0.0   \n",
       "14             0.0          0.0          0.0          0.0           0.0   \n",
       "15             0.0          0.0          0.0          0.0           0.0   \n",
       "18             0.0          0.0          0.0          0.0           0.0   \n",
       "\n",
       "Product  Product 9760  \n",
       "Order                  \n",
       "8                 0.0  \n",
       "12                0.0  \n",
       "14                0.0  \n",
       "15                0.0  \n",
       "18                0.0  \n",
       "\n",
       "[5 rows x 355 columns]"
      ]
     },
     "execution_count": 89,
     "metadata": {},
     "output_type": "execute_result"
    }
   ],
   "source": [
    "# Сделаем сводную таблицу.\n",
    "basket = data.groupby(['Order', 'Product'])['Qty'].sum().unstack().fillna(0)\n",
    "basket.head()"
   ]
  },
  {
   "cell_type": "code",
   "execution_count": 90,
   "metadata": {},
   "outputs": [
    {
     "data": {
      "text/html": [
       "<div>\n",
       "<style scoped>\n",
       "    .dataframe tbody tr th:only-of-type {\n",
       "        vertical-align: middle;\n",
       "    }\n",
       "\n",
       "    .dataframe tbody tr th {\n",
       "        vertical-align: top;\n",
       "    }\n",
       "\n",
       "    .dataframe thead th {\n",
       "        text-align: right;\n",
       "    }\n",
       "</style>\n",
       "<table border=\"1\" class=\"dataframe\">\n",
       "  <thead>\n",
       "    <tr style=\"text-align: right;\">\n",
       "      <th>Product</th>\n",
       "      <th>Product 1</th>\n",
       "      <th>Product 10</th>\n",
       "      <th>Product 10031</th>\n",
       "      <th>Product 101</th>\n",
       "      <th>Product 10281</th>\n",
       "      <th>Product 104</th>\n",
       "      <th>Product 10457</th>\n",
       "      <th>Product 1084</th>\n",
       "      <th>Product 1097</th>\n",
       "      <th>Product 1098</th>\n",
       "      <th>...</th>\n",
       "      <th>Product 8328</th>\n",
       "      <th>Product 8494</th>\n",
       "      <th>Product 8640</th>\n",
       "      <th>Product 879</th>\n",
       "      <th>Product 9</th>\n",
       "      <th>Product 910</th>\n",
       "      <th>Product 944</th>\n",
       "      <th>Product 954</th>\n",
       "      <th>Product 9681</th>\n",
       "      <th>Product 9760</th>\n",
       "    </tr>\n",
       "    <tr>\n",
       "      <th>Order</th>\n",
       "      <th></th>\n",
       "      <th></th>\n",
       "      <th></th>\n",
       "      <th></th>\n",
       "      <th></th>\n",
       "      <th></th>\n",
       "      <th></th>\n",
       "      <th></th>\n",
       "      <th></th>\n",
       "      <th></th>\n",
       "      <th></th>\n",
       "      <th></th>\n",
       "      <th></th>\n",
       "      <th></th>\n",
       "      <th></th>\n",
       "      <th></th>\n",
       "      <th></th>\n",
       "      <th></th>\n",
       "      <th></th>\n",
       "      <th></th>\n",
       "      <th></th>\n",
       "    </tr>\n",
       "  </thead>\n",
       "  <tbody>\n",
       "    <tr>\n",
       "      <th>8</th>\n",
       "      <td>0</td>\n",
       "      <td>0</td>\n",
       "      <td>0</td>\n",
       "      <td>0</td>\n",
       "      <td>0</td>\n",
       "      <td>0</td>\n",
       "      <td>0</td>\n",
       "      <td>0</td>\n",
       "      <td>0</td>\n",
       "      <td>0</td>\n",
       "      <td>...</td>\n",
       "      <td>0</td>\n",
       "      <td>0</td>\n",
       "      <td>0</td>\n",
       "      <td>0</td>\n",
       "      <td>0</td>\n",
       "      <td>0</td>\n",
       "      <td>0</td>\n",
       "      <td>0</td>\n",
       "      <td>0</td>\n",
       "      <td>0</td>\n",
       "    </tr>\n",
       "    <tr>\n",
       "      <th>12</th>\n",
       "      <td>0</td>\n",
       "      <td>0</td>\n",
       "      <td>0</td>\n",
       "      <td>0</td>\n",
       "      <td>0</td>\n",
       "      <td>0</td>\n",
       "      <td>0</td>\n",
       "      <td>0</td>\n",
       "      <td>0</td>\n",
       "      <td>0</td>\n",
       "      <td>...</td>\n",
       "      <td>0</td>\n",
       "      <td>0</td>\n",
       "      <td>0</td>\n",
       "      <td>0</td>\n",
       "      <td>0</td>\n",
       "      <td>0</td>\n",
       "      <td>0</td>\n",
       "      <td>0</td>\n",
       "      <td>0</td>\n",
       "      <td>0</td>\n",
       "    </tr>\n",
       "    <tr>\n",
       "      <th>14</th>\n",
       "      <td>0</td>\n",
       "      <td>0</td>\n",
       "      <td>0</td>\n",
       "      <td>0</td>\n",
       "      <td>0</td>\n",
       "      <td>0</td>\n",
       "      <td>0</td>\n",
       "      <td>0</td>\n",
       "      <td>0</td>\n",
       "      <td>0</td>\n",
       "      <td>...</td>\n",
       "      <td>0</td>\n",
       "      <td>0</td>\n",
       "      <td>0</td>\n",
       "      <td>0</td>\n",
       "      <td>0</td>\n",
       "      <td>0</td>\n",
       "      <td>0</td>\n",
       "      <td>0</td>\n",
       "      <td>0</td>\n",
       "      <td>0</td>\n",
       "    </tr>\n",
       "    <tr>\n",
       "      <th>15</th>\n",
       "      <td>0</td>\n",
       "      <td>0</td>\n",
       "      <td>0</td>\n",
       "      <td>0</td>\n",
       "      <td>0</td>\n",
       "      <td>0</td>\n",
       "      <td>0</td>\n",
       "      <td>0</td>\n",
       "      <td>0</td>\n",
       "      <td>0</td>\n",
       "      <td>...</td>\n",
       "      <td>0</td>\n",
       "      <td>0</td>\n",
       "      <td>0</td>\n",
       "      <td>0</td>\n",
       "      <td>0</td>\n",
       "      <td>0</td>\n",
       "      <td>0</td>\n",
       "      <td>0</td>\n",
       "      <td>0</td>\n",
       "      <td>0</td>\n",
       "    </tr>\n",
       "    <tr>\n",
       "      <th>18</th>\n",
       "      <td>0</td>\n",
       "      <td>0</td>\n",
       "      <td>0</td>\n",
       "      <td>0</td>\n",
       "      <td>0</td>\n",
       "      <td>0</td>\n",
       "      <td>0</td>\n",
       "      <td>0</td>\n",
       "      <td>0</td>\n",
       "      <td>0</td>\n",
       "      <td>...</td>\n",
       "      <td>0</td>\n",
       "      <td>0</td>\n",
       "      <td>0</td>\n",
       "      <td>0</td>\n",
       "      <td>0</td>\n",
       "      <td>0</td>\n",
       "      <td>0</td>\n",
       "      <td>0</td>\n",
       "      <td>0</td>\n",
       "      <td>0</td>\n",
       "    </tr>\n",
       "  </tbody>\n",
       "</table>\n",
       "<p>5 rows × 355 columns</p>\n",
       "</div>"
      ],
      "text/plain": [
       "Product  Product 1  Product 10  Product 10031  Product 101  Product 10281  \\\n",
       "Order                                                                       \n",
       "8                0           0              0            0              0   \n",
       "12               0           0              0            0              0   \n",
       "14               0           0              0            0              0   \n",
       "15               0           0              0            0              0   \n",
       "18               0           0              0            0              0   \n",
       "\n",
       "Product  Product 104  Product 10457  Product 1084  Product 1097  Product 1098  \\\n",
       "Order                                                                           \n",
       "8                  0              0             0             0             0   \n",
       "12                 0              0             0             0             0   \n",
       "14                 0              0             0             0             0   \n",
       "15                 0              0             0             0             0   \n",
       "18                 0              0             0             0             0   \n",
       "\n",
       "Product  ...  Product 8328  Product 8494  Product 8640  Product 879  \\\n",
       "Order    ...                                                          \n",
       "8        ...             0             0             0            0   \n",
       "12       ...             0             0             0            0   \n",
       "14       ...             0             0             0            0   \n",
       "15       ...             0             0             0            0   \n",
       "18       ...             0             0             0            0   \n",
       "\n",
       "Product  Product 9  Product 910  Product 944  Product 954  Product 9681  \\\n",
       "Order                                                                     \n",
       "8                0            0            0            0             0   \n",
       "12               0            0            0            0             0   \n",
       "14               0            0            0            0             0   \n",
       "15               0            0            0            0             0   \n",
       "18               0            0            0            0             0   \n",
       "\n",
       "Product  Product 9760  \n",
       "Order                  \n",
       "8                   0  \n",
       "12                  0  \n",
       "14                  0  \n",
       "15                  0  \n",
       "18                  0  \n",
       "\n",
       "[5 rows x 355 columns]"
      ]
     },
     "execution_count": 90,
     "metadata": {},
     "output_type": "execute_result"
    }
   ],
   "source": [
    "# Заменим все значения, отличные от нуля, единичкой.\n",
    "def replace_units(el):\n",
    "    if el <= 0:\n",
    "        return 0\n",
    "    elif el > 0:\n",
    "        return 1\n",
    "    \n",
    "basket = basket.applymap(replace_units)\n",
    "basket.head()"
   ]
  },
  {
   "cell_type": "code",
   "execution_count": 91,
   "metadata": {},
   "outputs": [],
   "source": [
    "# Теперь генерируем ассоциативные правила.\n",
    "association_rules = apriori(basket, min_suport = 0.004, use_colnames=True)"
   ]
  },
  {
   "cell_type": "code",
   "execution_count": 92,
   "metadata": {},
   "outputs": [
    {
     "data": {
      "text/plain": [
       "RelationRecord(items=frozenset({' '}), support=1.0, ordered_statistics=[OrderedStatistic(items_base=frozenset(), items_add=frozenset({' '}), confidence=1.0, lift=1.0)])"
      ]
     },
     "execution_count": 92,
     "metadata": {},
     "output_type": "execute_result"
    }
   ],
   "source": [
    "# Список с правилами.\n",
    "association_results = list(association_rules)\n",
    "association_results[0]"
   ]
  },
  {
   "cell_type": "markdown",
   "metadata": {},
   "source": [
    "Максимальный лифт, который образовывает связи = 1.11, слишком мал. Значит сильных зависимостей нет. Минимальный = 0.8751386663379761, что также не свидетельствует о сильной обратной зависимости группы продуктов."
   ]
  },
  {
   "cell_type": "markdown",
   "metadata": {},
   "source": [
    "## Выводы:\n",
    "* были исследованы данные о 9835 продажах 355 товаров 877 клиентам;\n",
    "* выявлена сезонность: весна-осень больше продаж;\n",
    "* по загруженности: 5-дневный 8-часовой рабочий день с 9 до 18 и обеденным перерывом в 13:00;\n",
    "* результаты ABC-анализа:  \n",
    "  * 6 клиентов являются самыми важными, т.к. делают 10% всех продаж со средним чеком 96.98. Для них нужно организвывать специальные предложения, приглашать на мероприятия, дарить подарки.\n",
    "  * Средний чек категории \"В\" (272 человека) равен 53.50. Это так же важные клиенты, которые делают основную часть продаж. Для них можно устраивать ивенты, спец. предложения и пытаться перетащить их в категорию \"А\".\n",
    "  * 426 клиентов попали в категорию \"С\" (средний чек = 27,20). Нельзя утверждать, что эти клиенты нам не нужны. Возможно есть разница в продуктах(а не только в количестве), которые покупались группой \"А\" и \"С\". Нужно подробнее изучить сами продукты и их цены. Возможно можно сделать кластеризацию и потом повторить ABC-анализ для клиентов разных кластеров.\n",
    "* результаты XYZ-анализа (за последний год):\n",
    "  * Четыре товара (Product 2, Product 3, Product 4 и Product 43) характеризуются более-менее стабильной величиной потребления, незначительными колебаниями в их расходе и высокой точностью прогноза;\n",
    "* построен прогноз продаж (для 4 товаров: №2, №3, №4, №43) с помощью линейной регрессионной модели и случайного леса.\n",
    "  * высокая точность на известных данных (0.9700295945365337, 0.9701653174244261, 0.964644402962993, 0.9770705569162872) у случайного леса, потому выбираем прогноз на год ``df_final``\n",
    "* кластеры не обнаружены;\n",
    "* наличиние ассоциативных связей отсутствует (зависимости нет)"
   ]
  },
  {
   "cell_type": "code",
   "execution_count": 93,
   "metadata": {},
   "outputs": [
    {
     "data": {
      "text/html": [
       "<div>\n",
       "<style scoped>\n",
       "    .dataframe tbody tr th:only-of-type {\n",
       "        vertical-align: middle;\n",
       "    }\n",
       "\n",
       "    .dataframe tbody tr th {\n",
       "        vertical-align: top;\n",
       "    }\n",
       "\n",
       "    .dataframe thead th {\n",
       "        text-align: right;\n",
       "    }\n",
       "</style>\n",
       "<table border=\"1\" class=\"dataframe\">\n",
       "  <thead>\n",
       "    <tr style=\"text-align: right;\">\n",
       "      <th></th>\n",
       "      <th>index</th>\n",
       "      <th>Product 2</th>\n",
       "      <th>Product 3</th>\n",
       "      <th>Product 4</th>\n",
       "      <th>Product 43</th>\n",
       "    </tr>\n",
       "  </thead>\n",
       "  <tbody>\n",
       "    <tr>\n",
       "      <th>36</th>\n",
       "      <td>2021-01-01</td>\n",
       "      <td>324.060047</td>\n",
       "      <td>369.654000</td>\n",
       "      <td>351.767372</td>\n",
       "      <td>195.465581</td>\n",
       "    </tr>\n",
       "    <tr>\n",
       "      <th>37</th>\n",
       "      <td>2021-02-01</td>\n",
       "      <td>344.983372</td>\n",
       "      <td>383.999302</td>\n",
       "      <td>381.200302</td>\n",
       "      <td>194.942326</td>\n",
       "    </tr>\n",
       "    <tr>\n",
       "      <th>38</th>\n",
       "      <td>2021-03-01</td>\n",
       "      <td>346.699860</td>\n",
       "      <td>475.053442</td>\n",
       "      <td>412.257279</td>\n",
       "      <td>198.993302</td>\n",
       "    </tr>\n",
       "    <tr>\n",
       "      <th>39</th>\n",
       "      <td>2021-04-01</td>\n",
       "      <td>362.255326</td>\n",
       "      <td>480.877837</td>\n",
       "      <td>434.322651</td>\n",
       "      <td>251.457419</td>\n",
       "    </tr>\n",
       "    <tr>\n",
       "      <th>40</th>\n",
       "      <td>2021-05-01</td>\n",
       "      <td>326.319628</td>\n",
       "      <td>360.043419</td>\n",
       "      <td>348.524349</td>\n",
       "      <td>195.889907</td>\n",
       "    </tr>\n",
       "    <tr>\n",
       "      <th>41</th>\n",
       "      <td>2021-06-01</td>\n",
       "      <td>308.453535</td>\n",
       "      <td>370.280349</td>\n",
       "      <td>340.300000</td>\n",
       "      <td>196.512000</td>\n",
       "    </tr>\n",
       "    <tr>\n",
       "      <th>42</th>\n",
       "      <td>2021-07-01</td>\n",
       "      <td>288.266791</td>\n",
       "      <td>358.900488</td>\n",
       "      <td>327.248535</td>\n",
       "      <td>200.391093</td>\n",
       "    </tr>\n",
       "    <tr>\n",
       "      <th>43</th>\n",
       "      <td>2021-08-01</td>\n",
       "      <td>310.995512</td>\n",
       "      <td>366.156488</td>\n",
       "      <td>350.826093</td>\n",
       "      <td>195.154814</td>\n",
       "    </tr>\n",
       "    <tr>\n",
       "      <th>44</th>\n",
       "      <td>2021-09-01</td>\n",
       "      <td>343.433163</td>\n",
       "      <td>400.214791</td>\n",
       "      <td>374.100256</td>\n",
       "      <td>224.896372</td>\n",
       "    </tr>\n",
       "    <tr>\n",
       "      <th>45</th>\n",
       "      <td>2021-10-01</td>\n",
       "      <td>375.392628</td>\n",
       "      <td>385.461302</td>\n",
       "      <td>434.199070</td>\n",
       "      <td>175.078860</td>\n",
       "    </tr>\n",
       "    <tr>\n",
       "      <th>46</th>\n",
       "      <td>2021-11-01</td>\n",
       "      <td>322.799209</td>\n",
       "      <td>369.484884</td>\n",
       "      <td>358.015372</td>\n",
       "      <td>193.579581</td>\n",
       "    </tr>\n",
       "    <tr>\n",
       "      <th>47</th>\n",
       "      <td>2021-12-01</td>\n",
       "      <td>264.806279</td>\n",
       "      <td>298.597651</td>\n",
       "      <td>304.791860</td>\n",
       "      <td>195.368651</td>\n",
       "    </tr>\n",
       "  </tbody>\n",
       "</table>\n",
       "</div>"
      ],
      "text/plain": [
       "        index   Product 2   Product 3   Product 4  Product 43\n",
       "36 2021-01-01  324.060047  369.654000  351.767372  195.465581\n",
       "37 2021-02-01  344.983372  383.999302  381.200302  194.942326\n",
       "38 2021-03-01  346.699860  475.053442  412.257279  198.993302\n",
       "39 2021-04-01  362.255326  480.877837  434.322651  251.457419\n",
       "40 2021-05-01  326.319628  360.043419  348.524349  195.889907\n",
       "41 2021-06-01  308.453535  370.280349  340.300000  196.512000\n",
       "42 2021-07-01  288.266791  358.900488  327.248535  200.391093\n",
       "43 2021-08-01  310.995512  366.156488  350.826093  195.154814\n",
       "44 2021-09-01  343.433163  400.214791  374.100256  224.896372\n",
       "45 2021-10-01  375.392628  385.461302  434.199070  175.078860\n",
       "46 2021-11-01  322.799209  369.484884  358.015372  193.579581\n",
       "47 2021-12-01  264.806279  298.597651  304.791860  195.368651"
      ]
     },
     "execution_count": 93,
     "metadata": {},
     "output_type": "execute_result"
    }
   ],
   "source": [
    "df_final"
   ]
  },
  {
   "cell_type": "code",
   "execution_count": null,
   "metadata": {},
   "outputs": [],
   "source": []
  }
 ],
 "metadata": {
  "kernelspec": {
   "display_name": "Python 3",
   "language": "python",
   "name": "python3"
  },
  "language_info": {
   "codemirror_mode": {
    "name": "ipython",
    "version": 3
   },
   "file_extension": ".py",
   "mimetype": "text/x-python",
   "name": "python",
   "nbconvert_exporter": "python",
   "pygments_lexer": "ipython3",
   "version": "3.8.3"
  }
 },
 "nbformat": 4,
 "nbformat_minor": 4
}
